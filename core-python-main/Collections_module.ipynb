{
  "nbformat": 4,
  "nbformat_minor": 0,
  "metadata": {
    "colab": {
      "provenance": [],
      "authorship_tag": "ABX9TyMvNM7SeT3+duFufxJEIGrZ",
      "include_colab_link": true
    },
    "kernelspec": {
      "name": "python3",
      "display_name": "Python 3"
    },
    "language_info": {
      "name": "python"
    }
  },
  "cells": [
    {
      "cell_type": "markdown",
      "metadata": {
        "id": "view-in-github",
        "colab_type": "text"
      },
      "source": [
        "<a href=\"https://colab.research.google.com/github/BData97/core-python/blob/main/Collections_module.ipynb\" target=\"_parent\"><img src=\"https://colab.research.google.com/assets/colab-badge.svg\" alt=\"Open In Colab\"/></a>"
      ]
    },
    {
      "cell_type": "markdown",
      "source": [
        "# ***Collections_module***"
      ],
      "metadata": {
        "id": "-dYvPbzp3M-a"
      }
    },
    {
      "cell_type": "code",
      "execution_count": 1,
      "metadata": {
        "id": "tXTviR3w259F"
      },
      "outputs": [],
      "source": [
        "from collections import  defaultdict"
      ]
    },
    {
      "cell_type": "code",
      "source": [
        "d=defaultdict(lambda:0)"
      ],
      "metadata": {
        "id": "GIZi-yoI3sy9"
      },
      "execution_count": 3,
      "outputs": []
    },
    {
      "cell_type": "code",
      "source": [
        "d['one']"
      ],
      "metadata": {
        "colab": {
          "base_uri": "https://localhost:8080/"
        },
        "id": "fVhbZ5cq3-9h",
        "outputId": "4cff1e13-16d4-49b1-cf93-a23e3fa68e3d"
      },
      "execution_count": 4,
      "outputs": [
        {
          "output_type": "execute_result",
          "data": {
            "text/plain": [
              "0"
            ]
          },
          "metadata": {},
          "execution_count": 4
        }
      ]
    },
    {
      "cell_type": "code",
      "source": [
        "d[\"two\"]=100"
      ],
      "metadata": {
        "id": "Rs-yiqLS4Ejh"
      },
      "execution_count": 5,
      "outputs": []
    },
    {
      "cell_type": "code",
      "source": [
        "d"
      ],
      "metadata": {
        "colab": {
          "base_uri": "https://localhost:8080/"
        },
        "id": "Cv9gLSZX4MWZ",
        "outputId": "c932e948-0c10-4df7-98b7-0b8dd1321fd3"
      },
      "execution_count": 6,
      "outputs": [
        {
          "output_type": "execute_result",
          "data": {
            "text/plain": [
              "defaultdict(<function __main__.<lambda>()>, {'one': 0, 'two': 100})"
            ]
          },
          "metadata": {},
          "execution_count": 6
        }
      ]
    },
    {
      "cell_type": "code",
      "source": [
        "print(\"normal dictionary::\")\n",
        "d={}\n",
        "d[\"a\"]=\"A\"\n",
        "d[\"b\"]=\"B\"\n",
        "d[\"c\"]=\"C\"\n",
        "d[\"d\"]=\"D\"\n",
        "d[\"e\"]=\"E\"\n",
        "for k,v in d.items():\n",
        "  print(k,v)"
      ],
      "metadata": {
        "colab": {
          "base_uri": "https://localhost:8080/"
        },
        "id": "1AR0ycBq4TeB",
        "outputId": "648b1c76-bb14-4322-81c0-5ad5786affa5"
      },
      "execution_count": 7,
      "outputs": [
        {
          "output_type": "stream",
          "name": "stdout",
          "text": [
            "normal dictionary::\n",
            "a A\n",
            "b B\n",
            "c C\n",
            "d D\n",
            "e E\n"
          ]
        }
      ]
    },
    {
      "cell_type": "code",
      "source": [
        "from collections import OrderedDict"
      ],
      "metadata": {
        "id": "MUf550wv44TA"
      },
      "execution_count": 12,
      "outputs": []
    },
    {
      "cell_type": "code",
      "source": [
        "d={}\n",
        "d[\"a\"]=\"A\"\n",
        "d[\"b\"]=\"B\"\n",
        "\n",
        "b={}\n",
        "b[\"b\"]=\"B\"\n",
        "b[\"a\"]=\"A\"\n",
        "\n",
        "print(d==b)\n",
        "d1=OrderedDict()\n",
        "d[\"a\"]=\"A\"\n",
        "d[\"b\"]=\"B\"\n",
        "\n",
        "b1=OrderedDict()\n",
        "b[\"b\"]=\"B\"\n",
        "b[\"a\"]=\"A\"\n",
        "\n",
        "print(d1==b1)"
      ],
      "metadata": {
        "colab": {
          "base_uri": "https://localhost:8080/"
        },
        "id": "klyz5bfN5bIp",
        "outputId": "9e94744b-25cd-47d6-e20a-1d0e986c22ca"
      },
      "execution_count": 13,
      "outputs": [
        {
          "output_type": "stream",
          "name": "stdout",
          "text": [
            "True\n",
            "True\n"
          ]
        }
      ]
    },
    {
      "cell_type": "code",
      "source": [
        "from collections import namedtuple"
      ],
      "metadata": {
        "id": "hruMnLom6-SF"
      },
      "execution_count": 15,
      "outputs": []
    },
    {
      "cell_type": "code",
      "source": [
        "Dog=namedtuple('Dog1','age name breed')"
      ],
      "metadata": {
        "id": "ooHI9btO6-Kj"
      },
      "execution_count": 16,
      "outputs": []
    },
    {
      "cell_type": "code",
      "source": [
        "sam=Dog(age=2,breed=\"grman\",name=\"ron\")"
      ],
      "metadata": {
        "id": "FtCeK5T87tJA"
      },
      "execution_count": 17,
      "outputs": []
    },
    {
      "cell_type": "code",
      "source": [
        "sam"
      ],
      "metadata": {
        "colab": {
          "base_uri": "https://localhost:8080/"
        },
        "id": "liRmpv2A79Nx",
        "outputId": "d6d0111a-35fc-457b-87d1-4e7f2457d196"
      },
      "execution_count": 20,
      "outputs": [
        {
          "output_type": "execute_result",
          "data": {
            "text/plain": [
              "Dog1(age=2, name='ron', breed='grman')"
            ]
          },
          "metadata": {},
          "execution_count": 20
        }
      ]
    },
    {
      "cell_type": "code",
      "source": [
        "sam.age"
      ],
      "metadata": {
        "colab": {
          "base_uri": "https://localhost:8080/"
        },
        "id": "RDbmOojP8DF7",
        "outputId": "abf4d3d2-5d5b-48b0-e902-056f6fd2f026"
      },
      "execution_count": 21,
      "outputs": [
        {
          "output_type": "execute_result",
          "data": {
            "text/plain": [
              "2"
            ]
          },
          "metadata": {},
          "execution_count": 21
        }
      ]
    },
    {
      "cell_type": "code",
      "source": [
        "sam.breed"
      ],
      "metadata": {
        "colab": {
          "base_uri": "https://localhost:8080/",
          "height": 36
        },
        "id": "q99Aw6z08FyX",
        "outputId": "69da087b-ca40-4453-d0a7-b0cf361c5499"
      },
      "execution_count": 23,
      "outputs": [
        {
          "output_type": "execute_result",
          "data": {
            "text/plain": [
              "'grman'"
            ],
            "application/vnd.google.colaboratory.intrinsic+json": {
              "type": "string"
            }
          },
          "metadata": {},
          "execution_count": 23
        }
      ]
    },
    {
      "cell_type": "code",
      "source": [
        "sam[2]"
      ],
      "metadata": {
        "colab": {
          "base_uri": "https://localhost:8080/",
          "height": 36
        },
        "id": "N9614XP08Qp4",
        "outputId": "8c0693a9-017f-4f21-d2dd-10953861c72b"
      },
      "execution_count": 24,
      "outputs": [
        {
          "output_type": "execute_result",
          "data": {
            "text/plain": [
              "'grman'"
            ],
            "application/vnd.google.colaboratory.intrinsic+json": {
              "type": "string"
            }
          },
          "metadata": {},
          "execution_count": 24
        }
      ]
    },
    {
      "cell_type": "code",
      "source": [
        "from collections import Counter"
      ],
      "metadata": {
        "id": "CIXIAaDq8Xj2"
      },
      "execution_count": 27,
      "outputs": []
    },
    {
      "cell_type": "code",
      "source": [
        "list1=[1,1,1,12,33,3,33,4,4,4,4,4,4,5,6]\n",
        "Counter(list1)"
      ],
      "metadata": {
        "colab": {
          "base_uri": "https://localhost:8080/"
        },
        "id": "lX8uOv5198Zs",
        "outputId": "38ca5b48-1402-4ccf-f1f3-90e3d504418c"
      },
      "execution_count": 28,
      "outputs": [
        {
          "output_type": "execute_result",
          "data": {
            "text/plain": [
              "Counter({1: 3, 12: 1, 33: 2, 3: 1, 4: 6, 5: 1, 6: 1})"
            ]
          },
          "metadata": {},
          "execution_count": 28
        }
      ]
    },
    {
      "cell_type": "code",
      "source": [
        "string1=\"bhushan deshmukh\"\n",
        "Counter(string1)"
      ],
      "metadata": {
        "colab": {
          "base_uri": "https://localhost:8080/"
        },
        "id": "CjVH-bO5-UYv",
        "outputId": "36d7125d-365e-448d-de29-ab33c5458e6d"
      },
      "execution_count": 33,
      "outputs": [
        {
          "output_type": "execute_result",
          "data": {
            "text/plain": [
              "Counter({'b': 1,\n",
              "         'h': 4,\n",
              "         'u': 2,\n",
              "         's': 2,\n",
              "         'a': 1,\n",
              "         'n': 1,\n",
              "         ' ': 1,\n",
              "         'd': 1,\n",
              "         'e': 1,\n",
              "         'm': 1,\n",
              "         'k': 1})"
            ]
          },
          "metadata": {},
          "execution_count": 33
        }
      ]
    },
    {
      "cell_type": "code",
      "source": [
        "s=\"hi is this is is why why this is Bhushan \"\n",
        "word=s.split()\n",
        "print(Counter(word))\n",
        "d=Counter(word)\n",
        "d.most_common(3)"
      ],
      "metadata": {
        "colab": {
          "base_uri": "https://localhost:8080/"
        },
        "id": "s7gjfD0B-37-",
        "outputId": "d8ca1712-9cb6-46cd-dbd4-c236775bf313"
      },
      "execution_count": 43,
      "outputs": [
        {
          "output_type": "stream",
          "name": "stdout",
          "text": [
            "Counter({'is': 4, 'this': 2, 'why': 2, 'hi': 1, 'Bhushan': 1})\n"
          ]
        },
        {
          "output_type": "execute_result",
          "data": {
            "text/plain": [
              "[('is', 4), ('this', 2), ('why', 2)]"
            ]
          },
          "metadata": {},
          "execution_count": 43
        }
      ]
    },
    {
      "cell_type": "code",
      "source": [],
      "metadata": {
        "id": "1lXvglAX_7mm"
      },
      "execution_count": null,
      "outputs": []
    }
  ]
}