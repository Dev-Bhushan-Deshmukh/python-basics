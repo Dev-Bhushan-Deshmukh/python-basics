{
  "nbformat": 4,
  "nbformat_minor": 0,
  "metadata": {
    "colab": {
      "provenance": [],
      "include_colab_link": true
    },
    "kernelspec": {
      "name": "python3",
      "display_name": "Python 3"
    },
    "language_info": {
      "name": "python"
    }
  },
  "cells": [
    {
      "cell_type": "markdown",
      "metadata": {
        "id": "view-in-github",
        "colab_type": "text"
      },
      "source": [
        "<a href=\"https://colab.research.google.com/github/BData97/core-python/blob/main/Copy_of_oops.ipynb\" target=\"_parent\"><img src=\"https://colab.research.google.com/assets/colab-badge.svg\" alt=\"Open In Colab\"/></a>"
      ]
    },
    {
      "cell_type": "markdown",
      "source": [
        "# ***Object oriented programming concept***"
      ],
      "metadata": {
        "id": "IFEcgl47cjUw"
      }
    },
    {
      "cell_type": "code",
      "execution_count": null,
      "metadata": {
        "id": "ii6xDMWYchO1"
      },
      "outputs": [],
      "source": [
        "class Sample:\n",
        "   pass\n",
        "   "
      ]
    },
    {
      "cell_type": "code",
      "source": [
        "x=Sample()"
      ],
      "metadata": {
        "id": "t3lm03M9ddxl"
      },
      "execution_count": null,
      "outputs": []
    },
    {
      "cell_type": "code",
      "source": [
        "print(type(x))"
      ],
      "metadata": {
        "colab": {
          "base_uri": "https://localhost:8080/"
        },
        "id": "0FELIyrsdmNe",
        "outputId": "ed8e9eb2-33b4-44b9-9898-ce4ecad4ddf5"
      },
      "execution_count": null,
      "outputs": [
        {
          "output_type": "stream",
          "name": "stdout",
          "text": [
            "<class '__main__.Sample'>\n"
          ]
        }
      ]
    },
    {
      "cell_type": "code",
      "source": [
        "class Dog:\n",
        "   def __init__(self,in_breed):\n",
        "     self.out_breed=in_breed\n",
        "     "
      ],
      "metadata": {
        "id": "7eIe8Kted3TF"
      },
      "execution_count": null,
      "outputs": []
    },
    {
      "cell_type": "code",
      "source": [
        "test1=Dog(\"julie\")"
      ],
      "metadata": {
        "id": "_UzLmVOveP1D"
      },
      "execution_count": null,
      "outputs": []
    },
    {
      "cell_type": "code",
      "source": [
        "print(test1.out_breed)"
      ],
      "metadata": {
        "colab": {
          "base_uri": "https://localhost:8080/"
        },
        "id": "4myviwdEeWo0",
        "outputId": "a7fc87b4-ceb5-4657-a919-ecebc4d6c917"
      },
      "execution_count": null,
      "outputs": [
        {
          "output_type": "stream",
          "name": "stdout",
          "text": [
            "julie\n"
          ]
        }
      ]
    },
    {
      "cell_type": "code",
      "source": [
        "class Cat:\n",
        "  def __init__(self):\n",
        "    self.breed=\"pug\""
      ],
      "metadata": {
        "id": "Zscw8sYkeprc"
      },
      "execution_count": null,
      "outputs": []
    },
    {
      "cell_type": "code",
      "source": [
        "x=Cat()"
      ],
      "metadata": {
        "id": "mwdaDULFfJjU"
      },
      "execution_count": null,
      "outputs": []
    },
    {
      "cell_type": "markdown",
      "source": [
        "x.breed"
      ],
      "metadata": {
        "id": "GKZlnkwSfQpb"
      }
    },
    {
      "cell_type": "code",
      "source": [
        "class Base:\n",
        "  def __init__(self):\n",
        "    self.type=\"bhk\"\n",
        "    print(\"running...\")\n",
        "    "
      ],
      "metadata": {
        "id": "WtCIsDYMfb0z"
      },
      "execution_count": null,
      "outputs": []
    },
    {
      "cell_type": "code",
      "source": [
        "x=Base()"
      ],
      "metadata": {
        "colab": {
          "base_uri": "https://localhost:8080/"
        },
        "id": "A_7UTslofwHr",
        "outputId": "b3dd63d7-64f1-48a7-8811-ee6bf49e59e9"
      },
      "execution_count": null,
      "outputs": [
        {
          "output_type": "stream",
          "name": "stdout",
          "text": [
            "running...\n"
          ]
        }
      ]
    },
    {
      "cell_type": "code",
      "source": [
        "x.type"
      ],
      "metadata": {
        "colab": {
          "base_uri": "https://localhost:8080/",
          "height": 36
        },
        "id": "PzKC0fgTf0hK",
        "outputId": "95b9a6c9-b770-4567-96f0-4986483aa9fb"
      },
      "execution_count": null,
      "outputs": [
        {
          "output_type": "execute_result",
          "data": {
            "text/plain": [
              "'bhk'"
            ],
            "application/vnd.google.colaboratory.intrinsic+json": {
              "type": "string"
            }
          },
          "metadata": {},
          "execution_count": 16
        }
      ]
    },
    {
      "cell_type": "code",
      "source": [
        "class Tiger:\n",
        "  classifiction=\"cat\"\n",
        "  def __init__(self,name,subspecies):\n",
        "    self.na=name\n",
        "    self.sbs=subspecies"
      ],
      "metadata": {
        "id": "dG1u_7OfgCTr"
      },
      "execution_count": null,
      "outputs": []
    },
    {
      "cell_type": "markdown",
      "source": [
        "x=Tiger(\"shadow\",\"siberian_tiger\")"
      ],
      "metadata": {
        "id": "_r8wTjOcgrBs"
      }
    },
    {
      "cell_type": "markdown",
      "source": [
        "x.na"
      ],
      "metadata": {
        "id": "YAv84Hekg7P_"
      }
    },
    {
      "cell_type": "code",
      "source": [
        "x.sbs"
      ],
      "metadata": {
        "colab": {
          "base_uri": "https://localhost:8080/",
          "height": 36
        },
        "id": "hM2q3VEehAD0",
        "outputId": "a70ac6ce-d1b2-4674-d5c8-3b9b2b2c2555"
      },
      "execution_count": null,
      "outputs": [
        {
          "output_type": "execute_result",
          "data": {
            "text/plain": [
              "'siberian_tiger'"
            ],
            "application/vnd.google.colaboratory.intrinsic+json": {
              "type": "string"
            }
          },
          "metadata": {},
          "execution_count": 23
        }
      ]
    },
    {
      "cell_type": "code",
      "source": [
        "x.classifiction"
      ],
      "metadata": {
        "colab": {
          "base_uri": "https://localhost:8080/",
          "height": 36
        },
        "id": "TT5O7epohHDU",
        "outputId": "d4819a58-4cc5-463c-b176-1e60bdb261ee"
      },
      "execution_count": null,
      "outputs": [
        {
          "output_type": "execute_result",
          "data": {
            "text/plain": [
              "'cat'"
            ],
            "application/vnd.google.colaboratory.intrinsic+json": {
              "type": "string"
            }
          },
          "metadata": {},
          "execution_count": 24
        }
      ]
    },
    {
      "cell_type": "code",
      "source": [
        "y=Tiger(\"julie\",\"indian_tiger\")"
      ],
      "metadata": {
        "id": "JOEq9Wn0hKZK"
      },
      "execution_count": null,
      "outputs": []
    },
    {
      "cell_type": "code",
      "source": [
        "y.classifiction"
      ],
      "metadata": {
        "colab": {
          "base_uri": "https://localhost:8080/",
          "height": 36
        },
        "id": "WrQ_GdjMhUIn",
        "outputId": "5f27442f-8e15-43ba-f84f-668aa7fad9ac"
      },
      "execution_count": null,
      "outputs": [
        {
          "output_type": "execute_result",
          "data": {
            "text/plain": [
              "'cat'"
            ],
            "application/vnd.google.colaboratory.intrinsic+json": {
              "type": "string"
            }
          },
          "metadata": {},
          "execution_count": 26
        }
      ]
    },
    {
      "cell_type": "code",
      "source": [
        "y.na"
      ],
      "metadata": {
        "colab": {
          "base_uri": "https://localhost:8080/",
          "height": 36
        },
        "id": "wwSCeIprhXgg",
        "outputId": "449801d6-c47e-40f4-ba04-891b91c63c75"
      },
      "execution_count": null,
      "outputs": [
        {
          "output_type": "execute_result",
          "data": {
            "text/plain": [
              "'julie'"
            ],
            "application/vnd.google.colaboratory.intrinsic+json": {
              "type": "string"
            }
          },
          "metadata": {},
          "execution_count": 27
        }
      ]
    },
    {
      "cell_type": "code",
      "source": [
        "y.sbs"
      ],
      "metadata": {
        "colab": {
          "base_uri": "https://localhost:8080/",
          "height": 36
        },
        "id": "fgx89CCthaso",
        "outputId": "1df27691-d94e-4d8b-fa94-69fd3763b5b6"
      },
      "execution_count": null,
      "outputs": [
        {
          "output_type": "execute_result",
          "data": {
            "text/plain": [
              "'indian_tiger'"
            ],
            "application/vnd.google.colaboratory.intrinsic+json": {
              "type": "string"
            }
          },
          "metadata": {},
          "execution_count": 28
        }
      ]
    },
    {
      "cell_type": "code",
      "source": [
        "x.classifiction=\"non_cat\""
      ],
      "metadata": {
        "id": "0H46y6QmhfHT"
      },
      "execution_count": null,
      "outputs": []
    },
    {
      "cell_type": "code",
      "source": [
        "x.classifiction"
      ],
      "metadata": {
        "colab": {
          "base_uri": "https://localhost:8080/",
          "height": 36
        },
        "id": "QPoPaA1Rhj3x",
        "outputId": "c058672a-83c3-4159-d49b-3ba4b405fb4c"
      },
      "execution_count": null,
      "outputs": [
        {
          "output_type": "execute_result",
          "data": {
            "text/plain": [
              "'non_cat'"
            ],
            "application/vnd.google.colaboratory.intrinsic+json": {
              "type": "string"
            }
          },
          "metadata": {},
          "execution_count": 30
        }
      ]
    },
    {
      "cell_type": "code",
      "source": [
        "class Dog:\n",
        "  specie=\"mammal\"\n",
        "  def __init__(self,name,breed):\n",
        "    self.na=name\n",
        "    self.br=breed\n",
        "  def bard(self):\n",
        "    print(\"woof!woof!woof!\")"
      ],
      "metadata": {
        "id": "ZRI2CLEkjHF7"
      },
      "execution_count": null,
      "outputs": []
    },
    {
      "cell_type": "markdown",
      "source": [
        "x=Dog(\"joe\",\"german\")"
      ],
      "metadata": {
        "id": "pKu2Xe7yjIwR"
      }
    },
    {
      "cell_type": "code",
      "source": [
        "x.na\n"
      ],
      "metadata": {
        "colab": {
          "base_uri": "https://localhost:8080/",
          "height": 36
        },
        "id": "CsE2DsDqjRwh",
        "outputId": "409f6b9a-a219-45a3-d3c6-1faf37968812"
      },
      "execution_count": null,
      "outputs": [
        {
          "output_type": "execute_result",
          "data": {
            "text/plain": [
              "'joe'"
            ],
            "application/vnd.google.colaboratory.intrinsic+json": {
              "type": "string"
            }
          },
          "metadata": {},
          "execution_count": 34
        }
      ]
    },
    {
      "cell_type": "code",
      "source": [
        "x.br"
      ],
      "metadata": {
        "colab": {
          "base_uri": "https://localhost:8080/",
          "height": 36
        },
        "id": "OI9rZ8XkjZZs",
        "outputId": "7f99405e-160b-48ea-d5fa-d62efacb25d7"
      },
      "execution_count": null,
      "outputs": [
        {
          "output_type": "execute_result",
          "data": {
            "text/plain": [
              "'german'"
            ],
            "application/vnd.google.colaboratory.intrinsic+json": {
              "type": "string"
            }
          },
          "metadata": {},
          "execution_count": 35
        }
      ]
    },
    {
      "cell_type": "code",
      "source": [
        "x.specie"
      ],
      "metadata": {
        "colab": {
          "base_uri": "https://localhost:8080/",
          "height": 36
        },
        "id": "YoB1OzqVjdHm",
        "outputId": "22a27105-b911-45f5-ccd1-18851a09baa8"
      },
      "execution_count": null,
      "outputs": [
        {
          "output_type": "execute_result",
          "data": {
            "text/plain": [
              "'mammal'"
            ],
            "application/vnd.google.colaboratory.intrinsic+json": {
              "type": "string"
            }
          },
          "metadata": {},
          "execution_count": 36
        }
      ]
    },
    {
      "cell_type": "code",
      "source": [
        "x.bard()"
      ],
      "metadata": {
        "colab": {
          "base_uri": "https://localhost:8080/"
        },
        "id": "t3PCPq2GjgqI",
        "outputId": "675dbbf7-a69e-4cd3-ab31-cdac670853bc"
      },
      "execution_count": null,
      "outputs": [
        {
          "output_type": "stream",
          "name": "stdout",
          "text": [
            "woof!woof!woof!\n"
          ]
        }
      ]
    },
    {
      "cell_type": "code",
      "source": [
        "class Cat:\n",
        "  type=\"mammal\"\n",
        "  def __init__(self,name,breed):\n",
        "    self.na=name\n",
        "    self.br=breed\n",
        "  def Bark(self,num):\n",
        "    self.no=num\n",
        "    print(\"MEW\"*self.no)"
      ],
      "metadata": {
        "id": "74OjaTrljwjC"
      },
      "execution_count": null,
      "outputs": []
    },
    {
      "cell_type": "code",
      "source": [
        "x=Cat(\"kitty\",\"persian\")"
      ],
      "metadata": {
        "id": "tGtAAOVhkOp5"
      },
      "execution_count": null,
      "outputs": []
    },
    {
      "cell_type": "code",
      "source": [
        "x.type"
      ],
      "metadata": {
        "colab": {
          "base_uri": "https://localhost:8080/",
          "height": 36
        },
        "id": "RdS9-sYEkVVT",
        "outputId": "839e41b6-0217-4f8a-d3ec-c17b206d0c50"
      },
      "execution_count": null,
      "outputs": [
        {
          "output_type": "execute_result",
          "data": {
            "text/plain": [
              "'mammal'"
            ],
            "application/vnd.google.colaboratory.intrinsic+json": {
              "type": "string"
            }
          },
          "metadata": {},
          "execution_count": 47
        }
      ]
    },
    {
      "cell_type": "code",
      "source": [
        "x.na"
      ],
      "metadata": {
        "colab": {
          "base_uri": "https://localhost:8080/",
          "height": 36
        },
        "id": "XqwvBQtqkYdP",
        "outputId": "a464fef0-00cc-4bba-f872-2e0d6c794b92"
      },
      "execution_count": null,
      "outputs": [
        {
          "output_type": "execute_result",
          "data": {
            "text/plain": [
              "'kitty'"
            ],
            "application/vnd.google.colaboratory.intrinsic+json": {
              "type": "string"
            }
          },
          "metadata": {},
          "execution_count": 48
        }
      ]
    },
    {
      "cell_type": "code",
      "source": [
        "x.br"
      ],
      "metadata": {
        "colab": {
          "base_uri": "https://localhost:8080/",
          "height": 36
        },
        "id": "Zea7lL3Skapk",
        "outputId": "cd08cfa8-3437-409a-d44c-29b92981ed17"
      },
      "execution_count": null,
      "outputs": [
        {
          "output_type": "execute_result",
          "data": {
            "text/plain": [
              "'persian'"
            ],
            "application/vnd.google.colaboratory.intrinsic+json": {
              "type": "string"
            }
          },
          "metadata": {},
          "execution_count": 49
        }
      ]
    },
    {
      "cell_type": "code",
      "source": [
        "x.Bark(4)"
      ],
      "metadata": {
        "colab": {
          "base_uri": "https://localhost:8080/"
        },
        "id": "juMVv-5_ke_Z",
        "outputId": "f7e78e9c-a042-4ca4-8251-fd4785aa4bc1"
      },
      "execution_count": null,
      "outputs": [
        {
          "output_type": "stream",
          "name": "stdout",
          "text": [
            "MEWMEWMEWMEW\n"
          ]
        }
      ]
    },
    {
      "cell_type": "code",
      "source": [
        "class Circle:\n",
        "  pi=3.14\n",
        "  def __init__(self,radius=1):\n",
        "    self.radius=radius\n",
        "    self.area=radius*radius*self.pi\n",
        "    print(self.area)\n",
        "  def New_Area(self,new_rad):\n",
        "    self.radius=new_rad\n",
        "    self.area=self.radius*self.radius*self.pi\n",
        "    print(self.area)\n",
        "  def Circumference(self):\n",
        "    self.circum=self.radius*self.pi*2\n",
        "    print(self.circum)"
      ],
      "metadata": {
        "id": "Fbq4KrUrk-Ge"
      },
      "execution_count": null,
      "outputs": []
    },
    {
      "cell_type": "code",
      "source": [
        "x=Circle()"
      ],
      "metadata": {
        "colab": {
          "base_uri": "https://localhost:8080/"
        },
        "id": "UsL-zhrcnUDX",
        "outputId": "a74d3062-111e-42e5-cd92-1437930e6f1b"
      },
      "execution_count": null,
      "outputs": [
        {
          "output_type": "stream",
          "name": "stdout",
          "text": [
            "3.14\n"
          ]
        }
      ]
    },
    {
      "cell_type": "code",
      "source": [
        "x.Circumference()"
      ],
      "metadata": {
        "colab": {
          "base_uri": "https://localhost:8080/"
        },
        "id": "il72oNaknZhx",
        "outputId": "3c653b82-653f-428f-b110-632e627d0236"
      },
      "execution_count": null,
      "outputs": [
        {
          "output_type": "stream",
          "name": "stdout",
          "text": [
            "12.56\n"
          ]
        }
      ]
    },
    {
      "cell_type": "code",
      "source": [
        "x.New_Area(2)"
      ],
      "metadata": {
        "colab": {
          "base_uri": "https://localhost:8080/"
        },
        "id": "sq12DzrEoHBp",
        "outputId": "15725254-e4e4-4d26-b843-f2ce6954fa30"
      },
      "execution_count": null,
      "outputs": [
        {
          "output_type": "stream",
          "name": "stdout",
          "text": [
            "12.56\n"
          ]
        }
      ]
    },
    {
      "cell_type": "code",
      "source": [
        "x.radius"
      ],
      "metadata": {
        "colab": {
          "base_uri": "https://localhost:8080/"
        },
        "id": "pscV00nJo0_E",
        "outputId": "c86b1e26-d9b7-4f6e-adcc-20da2c4f7b9c"
      },
      "execution_count": null,
      "outputs": [
        {
          "output_type": "execute_result",
          "data": {
            "text/plain": [
              "2"
            ]
          },
          "metadata": {},
          "execution_count": 65
        }
      ]
    },
    {
      "cell_type": "markdown",
      "source": [
        "## ***inheritance***"
      ],
      "metadata": {
        "id": "LWP4VPq3paQl"
      }
    },
    {
      "cell_type": "code",
      "source": [
        "class Animal():\n",
        "  def __init__(self):\n",
        "    print(\"animal created!\")\n",
        "  def WhoAm(self):\n",
        "   print(\"mamal\")\n",
        "  def Eat(self):\n",
        "    print(\"Eating\")\n",
        "class Dog(Animal):\n",
        "  def __init__(self):\n",
        "   print(\"Dog Created!!\")\n",
        "  def WhoAm(self):\n",
        "    print(\"Dog\")\n",
        "  def Bark(self):\n",
        "    print(\"woooof!!!\")"
      ],
      "metadata": {
        "id": "7R9kKR7_pjRZ"
      },
      "execution_count": null,
      "outputs": []
    },
    {
      "cell_type": "markdown",
      "source": [
        "x=Animal()"
      ],
      "metadata": {
        "id": "k9Zy16mlrNQ4"
      }
    },
    {
      "cell_type": "code",
      "source": [
        "x.WhoAm()"
      ],
      "metadata": {
        "colab": {
          "base_uri": "https://localhost:8080/"
        },
        "id": "iLk6485NrXrM",
        "outputId": "77d8d82c-6a69-4bc6-f5d8-9ecaf0e47b7b"
      },
      "execution_count": null,
      "outputs": [
        {
          "output_type": "stream",
          "name": "stdout",
          "text": [
            "mamal\n"
          ]
        }
      ]
    },
    {
      "cell_type": "code",
      "source": [
        "x.Eat()"
      ],
      "metadata": {
        "colab": {
          "base_uri": "https://localhost:8080/"
        },
        "id": "G6gGqo6-rgt9",
        "outputId": "948b06c4-8b98-4735-8d7e-c3519426bc7d"
      },
      "execution_count": null,
      "outputs": [
        {
          "output_type": "stream",
          "name": "stdout",
          "text": [
            "Eating\n"
          ]
        }
      ]
    },
    {
      "cell_type": "code",
      "source": [
        "y=Dog()"
      ],
      "metadata": {
        "colab": {
          "base_uri": "https://localhost:8080/"
        },
        "id": "5TdWYQz5rmui",
        "outputId": "9368c31d-2a15-4946-c140-ccd42ba7c399"
      },
      "execution_count": null,
      "outputs": [
        {
          "output_type": "stream",
          "name": "stdout",
          "text": [
            "Dog Created!!\n"
          ]
        }
      ]
    },
    {
      "cell_type": "code",
      "source": [
        "y.WhoAm()"
      ],
      "metadata": {
        "colab": {
          "base_uri": "https://localhost:8080/"
        },
        "id": "pBGAmvQ3rt-a",
        "outputId": "8a230a2d-cc02-4747-a70d-4be9d95e02fa"
      },
      "execution_count": null,
      "outputs": [
        {
          "output_type": "stream",
          "name": "stdout",
          "text": [
            "Dog\n"
          ]
        }
      ]
    },
    {
      "cell_type": "code",
      "source": [
        "y.Bark()"
      ],
      "metadata": {
        "colab": {
          "base_uri": "https://localhost:8080/"
        },
        "id": "Tarkxia4rw_p",
        "outputId": "2fcf10d7-529a-4f4b-adca-f5fe71b1ddad"
      },
      "execution_count": null,
      "outputs": [
        {
          "output_type": "stream",
          "name": "stdout",
          "text": [
            "woooof!!!\n"
          ]
        }
      ]
    },
    {
      "cell_type": "code",
      "source": [
        "y.Eat()"
      ],
      "metadata": {
        "colab": {
          "base_uri": "https://localhost:8080/"
        },
        "id": "g1d6c1I-r0iQ",
        "outputId": "772b6a57-edb0-48bf-9737-99a29a407497"
      },
      "execution_count": null,
      "outputs": [
        {
          "output_type": "stream",
          "name": "stdout",
          "text": [
            "Eating\n"
          ]
        }
      ]
    },
    {
      "cell_type": "code",
      "source": [
        "class Dog:\n",
        "  def __init__(self,name):\n",
        "    self.na=name\n",
        "  def Speak(self):\n",
        "    return self.na+\"says Wooof!!!\"\n",
        "class Cat:\n",
        "  def __init__(self,name):\n",
        "    self.na=name\n",
        "  def Speak(self):\n",
        "    return self.na+\"says meww!!!\"\n",
        "  "
      ],
      "metadata": {
        "id": "ovm5tTZDsTBR"
      },
      "execution_count": null,
      "outputs": []
    },
    {
      "cell_type": "code",
      "source": [
        "d=Dog(\"raju\")\n",
        "C=Cat(\"kitty\")"
      ],
      "metadata": {
        "id": "MUv2I-hkuBCd"
      },
      "execution_count": null,
      "outputs": []
    },
    {
      "cell_type": "code",
      "source": [
        "print(d.Speak())"
      ],
      "metadata": {
        "colab": {
          "base_uri": "https://localhost:8080/"
        },
        "id": "rXCKHJ1ruDIJ",
        "outputId": "2984442f-c0de-4c59-b4f5-139f1abcfb08"
      },
      "execution_count": null,
      "outputs": [
        {
          "output_type": "stream",
          "name": "stdout",
          "text": [
            "rajusays Wooof!!!\n"
          ]
        }
      ]
    },
    {
      "cell_type": "code",
      "source": [
        "C.Speak()"
      ],
      "metadata": {
        "colab": {
          "base_uri": "https://localhost:8080/",
          "height": 36
        },
        "id": "3w2LSWo8uJGA",
        "outputId": "34bb942e-c63e-4407-b4b1-5a505724b99e"
      },
      "execution_count": null,
      "outputs": [
        {
          "output_type": "execute_result",
          "data": {
            "text/plain": [
              "'kittysays meww!!!'"
            ],
            "application/vnd.google.colaboratory.intrinsic+json": {
              "type": "string"
            }
          },
          "metadata": {},
          "execution_count": 81
        }
      ]
    },
    {
      "cell_type": "code",
      "source": [
        "def pet_speak(pet):\n",
        "  print(pet.Speak())"
      ],
      "metadata": {
        "id": "8cB9C3nXuRN0"
      },
      "execution_count": null,
      "outputs": []
    },
    {
      "cell_type": "code",
      "source": [
        "pet_speak(d)"
      ],
      "metadata": {
        "colab": {
          "base_uri": "https://localhost:8080/"
        },
        "id": "YzHhLWePvU8c",
        "outputId": "6d9d7efd-508d-4774-bf78-596a33d84cfb"
      },
      "execution_count": null,
      "outputs": [
        {
          "output_type": "stream",
          "name": "stdout",
          "text": [
            "rajusays Wooof!!!\n"
          ]
        }
      ]
    },
    {
      "cell_type": "code",
      "source": [
        "pet_speak(C)"
      ],
      "metadata": {
        "colab": {
          "base_uri": "https://localhost:8080/"
        },
        "id": "gPq0GRlvvLau",
        "outputId": "dd499723-5342-41c2-88dd-6e909784c225"
      },
      "execution_count": null,
      "outputs": [
        {
          "output_type": "stream",
          "name": "stdout",
          "text": [
            "kittysays meww!!!\n"
          ]
        }
      ]
    }
  ]
}