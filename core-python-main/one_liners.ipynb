{
  "nbformat": 4,
  "nbformat_minor": 0,
  "metadata": {
    "colab": {
      "provenance": [],
      "authorship_tag": "ABX9TyNWyNPBxFGZDp/TfGqn9x9s",
      "include_colab_link": true
    },
    "kernelspec": {
      "name": "python3",
      "display_name": "Python 3"
    },
    "language_info": {
      "name": "python"
    }
  },
  "cells": [
    {
      "cell_type": "markdown",
      "metadata": {
        "id": "view-in-github",
        "colab_type": "text"
      },
      "source": [
        "<a href=\"https://colab.research.google.com/github/BData97/core-python/blob/main/one_liners.ipynb\" target=\"_parent\"><img src=\"https://colab.research.google.com/assets/colab-badge.svg\" alt=\"Open In Colab\"/></a>"
      ]
    },
    {
      "cell_type": "code",
      "execution_count": 2,
      "metadata": {
        "id": "wZ8ylgTJZkrT",
        "colab": {
          "base_uri": "https://localhost:8080/"
        },
        "outputId": "a7cd4663-5932-46b1-f749-2a25e324e9bb"
      },
      "outputs": [
        {
          "output_type": "stream",
          "name": "stdout",
          "text": [
            "10\n",
            "20\n"
          ]
        }
      ],
      "source": [
        "a,b=10,20\n",
        "print(a)\n",
        "print(b)\n"
      ]
    },
    {
      "cell_type": "code",
      "source": [
        "a,b=b,a\n",
        "print(a,b)"
      ],
      "metadata": {
        "colab": {
          "base_uri": "https://localhost:8080/"
        },
        "id": "nDsxD6kkdvCS",
        "outputId": "5f4cb94a-6d3d-4566-821f-1925d9a717c6"
      },
      "execution_count": 7,
      "outputs": [
        {
          "output_type": "stream",
          "name": "stdout",
          "text": [
            "20 10\n"
          ]
        }
      ]
    },
    {
      "cell_type": "code",
      "source": [
        "square=[i*i for i in range(2,10) if i%2==0]\n",
        "print(square)"
      ],
      "metadata": {
        "colab": {
          "base_uri": "https://localhost:8080/"
        },
        "id": "0a2r8nr8ePyt",
        "outputId": "aa6a10ed-7ae1-42ca-d4bf-5e3cb2af2e6c"
      },
      "execution_count": 10,
      "outputs": [
        {
          "output_type": "stream",
          "name": "stdout",
          "text": [
            "[4, 16, 36, 64]\n"
          ]
        }
      ]
    },
    {
      "cell_type": "code",
      "source": [
        "var=42 if 3<2 else 98\n",
        "print (var)"
      ],
      "metadata": {
        "colab": {
          "base_uri": "https://localhost:8080/"
        },
        "id": "36qsRHhjemCV",
        "outputId": "928d50ac-0d51-4c51-9cda-65ba09969348"
      },
      "execution_count": 12,
      "outputs": [
        {
          "output_type": "stream",
          "name": "stdout",
          "text": [
            "98\n"
          ]
        }
      ]
    },
    {
      "cell_type": "code",
      "source": [
        "list1=[1,2,3,4,5,6,7,8,9,10]\n",
        "print(*list1)"
      ],
      "metadata": {
        "colab": {
          "base_uri": "https://localhost:8080/"
        },
        "id": "pT-0CoWJfHKV",
        "outputId": "9caf495c-f077-45aa-abfd-fd502f4df84d"
      },
      "execution_count": 13,
      "outputs": [
        {
          "output_type": "stream",
          "name": "stdout",
          "text": [
            "1 2 3 4 5 6 7 8 9 10\n"
          ]
        }
      ]
    },
    {
      "cell_type": "code",
      "source": [],
      "metadata": {
        "id": "LhJ-DYaze41w"
      },
      "execution_count": null,
      "outputs": []
    },
    {
      "cell_type": "code",
      "source": [
        "import datetime;print((datetime.date(2022,12,31)-datetime.date.today()).days)"
      ],
      "metadata": {
        "colab": {
          "base_uri": "https://localhost:8080/"
        },
        "id": "oAg-yFTUfUHl",
        "outputId": "e1d551b0-dbb4-4eb2-a309-161386c34887"
      },
      "execution_count": 14,
      "outputs": [
        {
          "output_type": "stream",
          "name": "stdout",
          "text": [
            "42\n"
          ]
        }
      ]
    },
    {
      "cell_type": "code",
      "source": [
        "a=\"161\"\n",
        "a=a[::-1]\n",
        "print(a==a)"
      ],
      "metadata": {
        "colab": {
          "base_uri": "https://localhost:8080/"
        },
        "id": "kYZRgoI5f0Y_",
        "outputId": "5771d13e-2540-4368-d00c-445ca5199eca"
      },
      "execution_count": 16,
      "outputs": [
        {
          "output_type": "stream",
          "name": "stdout",
          "text": [
            "True\n"
          ]
        }
      ]
    },
    {
      "cell_type": "code",
      "source": [
        "ui=\"1 2 3 4 5 6\"\n",
        "list2=list(map(int,ui.split()))\n",
        "print(list2)"
      ],
      "metadata": {
        "colab": {
          "base_uri": "https://localhost:8080/"
        },
        "id": "O0LdSczOgYPc",
        "outputId": "c1f5ecbc-b4ec-4ac5-82b5-7beeef77a1b7"
      },
      "execution_count": 20,
      "outputs": [
        {
          "output_type": "stream",
          "name": "stdout",
          "text": [
            "[1, 2, 3, 4, 5, 6]\n"
          ]
        }
      ]
    },
    {
      "cell_type": "code",
      "source": [
        "print(\"hi\",\"this\",\"is\",\"bhushan\",\"from\",\"akola\",sep=\"*\")\n",
        "print(\"hi\",\"this\",\"is\",\"bhushan\",\"from\",\"akola\",sep=\"-\")\n",
        "print(\"hi\",\"this\",\"is\",\"bhushan\",\"from\",\"akola\",sep=\"@\")\n",
        "print(\"hi\",\"this\",\"is\",\"bhushan\",\"from\",\"akola\",sep=\" \")\n",
        "print(\"hi\",\"this\",\"is\",\"bhushan\",\"from\",\"akola\",sep=\"  \")"
      ],
      "metadata": {
        "colab": {
          "base_uri": "https://localhost:8080/"
        },
        "id": "9FoQ0Eisg7LF",
        "outputId": "a85a9969-b968-4e64-8691-039cdc236a10"
      },
      "execution_count": 25,
      "outputs": [
        {
          "output_type": "stream",
          "name": "stdout",
          "text": [
            "hi*this*is*bhushan*from*akola\n",
            "hi-this-is-bhushan-from-akola\n",
            "hi@this@is@bhushan@from@akola\n",
            "hi this is bhushan from akola\n",
            "hi  this  is  bhushan  from  akola\n"
          ]
        }
      ]
    },
    {
      "cell_type": "code",
      "source": [
        "l1=[1,2,3,4]\n",
        "l2=['a','b','c','d','e']\n",
        "for k,v in zip(l1,l2):\n",
        "  print(k,v)"
      ],
      "metadata": {
        "colab": {
          "base_uri": "https://localhost:8080/"
        },
        "id": "1IPgq95kiGfb",
        "outputId": "01217983-1a67-47a8-96a6-03a8a4c596d0"
      },
      "execution_count": 26,
      "outputs": [
        {
          "output_type": "stream",
          "name": "stdout",
          "text": [
            "1 a\n",
            "2 b\n",
            "3 c\n",
            "4 d\n"
          ]
        }
      ]
    },
    {
      "cell_type": "code",
      "source": [
        "l3=[\"c\",\"bb\",\"aaa\"]\n",
        "word=max(l3,key=len,default=\"0\")\n",
        "print(word)\n",
        "l3=[]\n",
        "word=max(l3,key=len,default=\"0\")\n",
        "print(word)\n"
      ],
      "metadata": {
        "colab": {
          "base_uri": "https://localhost:8080/"
        },
        "id": "FbMaZrrVi9BL",
        "outputId": "2695c748-6a11-465b-8768-70bf7864f83b"
      },
      "execution_count": 31,
      "outputs": [
        {
          "output_type": "stream",
          "name": "stdout",
          "text": [
            "aaa\n",
            "0\n"
          ]
        }
      ]
    },
    {
      "cell_type": "code",
      "source": [
        "any_true=any([True,False,False,False,False])\n",
        "print(any_true)\n",
        "all_true=all([True,True,True,False])\n",
        "print(all_true)\n",
        "any_true=any([False,False,False,False])\n",
        "print(any_true)\n",
        "all_true=all([True,True,True,])\n",
        "print(all_true)\n"
      ],
      "metadata": {
        "colab": {
          "base_uri": "https://localhost:8080/"
        },
        "id": "6IIzj-iqjkkI",
        "outputId": "b5486069-2b6d-4725-9379-2be6cb0ba88e"
      },
      "execution_count": 34,
      "outputs": [
        {
          "output_type": "stream",
          "name": "stdout",
          "text": [
            "True\n",
            "False\n",
            "False\n",
            "True\n"
          ]
        }
      ]
    },
    {
      "cell_type": "code",
      "source": [
        "nums=[-1,-2,-3, -4,-5,5]\n",
        "positives=any(i>0 for i in nums)\n",
        "print(positives)\n",
        "\n",
        "nums=[-1,-2,-3, -4,-5,5]\n",
        "positives=all(i>0 for i in nums)\n",
        "print(positives)\n"
      ],
      "metadata": {
        "colab": {
          "base_uri": "https://localhost:8080/"
        },
        "id": "2-7BTvN8k2je",
        "outputId": "06f41e1a-9e7b-42b5-d12b-cd75d9700b54"
      },
      "execution_count": 38,
      "outputs": [
        {
          "output_type": "stream",
          "name": "stdout",
          "text": [
            "True\n",
            "False\n"
          ]
        }
      ]
    },
    {
      "cell_type": "code",
      "source": [
        "a={\"a\":1,\"b\":2,\"c\":3}\n",
        "b={\"c\":4,\"d\":5,\"e\":6}\n",
        "c={**a,**b}\n",
        "print(c)"
      ],
      "metadata": {
        "colab": {
          "base_uri": "https://localhost:8080/"
        },
        "id": "8rX8badSm3kD",
        "outputId": "f2109a63-fdca-41b3-c895-1691ff460276"
      },
      "execution_count": 42,
      "outputs": [
        {
          "output_type": "stream",
          "name": "stdout",
          "text": [
            "{'a': 1, 'b': 2, 'c': 4, 'd': 5, 'e': 6}\n"
          ]
        }
      ]
    },
    {
      "cell_type": "code",
      "source": [
        "a={\"a\":1,\"b\":2,\"c\":3}\n",
        "b={\"c\":4,\"d\":5,\"e\":6}\n",
        "c=a.copy()\n",
        "b.update(c)\n",
        "\n",
        "print(b)"
      ],
      "metadata": {
        "colab": {
          "base_uri": "https://localhost:8080/"
        },
        "id": "64eYPhekoM5j",
        "outputId": "7b53eb65-a981-4cc0-a20f-798a81e3f588"
      },
      "execution_count": 48,
      "outputs": [
        {
          "output_type": "stream",
          "name": "stdout",
          "text": [
            "{'c': 3, 'd': 5, 'e': 6, 'a': 1, 'b': 2}\n"
          ]
        }
      ]
    },
    {
      "cell_type": "code",
      "source": [
        "a={\"a\":1,\"b\":2,\"c\":3}\n",
        "b={\"c\":4,\"d\":5,\"e\":6}\n",
        "c=a.copy()\n",
        "a.update(b)\n",
        "\n",
        "print(a)"
      ],
      "metadata": {
        "colab": {
          "base_uri": "https://localhost:8080/"
        },
        "id": "MC48AUwKpW41",
        "outputId": "521b0185-c4e7-4a74-86b3-033e52963712"
      },
      "execution_count": 50,
      "outputs": [
        {
          "output_type": "stream",
          "name": "stdout",
          "text": [
            "{'a': 1, 'b': 2, 'c': 4, 'd': 5, 'e': 6}\n"
          ]
        }
      ]
    },
    {
      "cell_type": "code",
      "source": [],
      "metadata": {
        "colab": {
          "base_uri": "https://localhost:8080/",
          "height": 165
        },
        "id": "ygpXzcWsp3Ha",
        "outputId": "699adaf3-7913-4547-a819-0595eb181834"
      },
      "execution_count": 52,
      "outputs": [
        {
          "output_type": "error",
          "ename": "NameError",
          "evalue": "ignored",
          "traceback": [
            "\u001b[0;31m---------------------------------------------------------------------------\u001b[0m",
            "\u001b[0;31mNameError\u001b[0m                                 Traceback (most recent call last)",
            "\u001b[0;32m<ipython-input-52-73732afacd36>\u001b[0m in \u001b[0;36m<module>\u001b[0;34m\u001b[0m\n\u001b[0;32m----> 1\u001b[0;31m \u001b[0mhelp\u001b[0m\u001b[0;34m(\u001b[0m\u001b[0mstring\u001b[0m\u001b[0;34m)\u001b[0m\u001b[0;34m\u001b[0m\u001b[0;34m\u001b[0m\u001b[0m\n\u001b[0m",
            "\u001b[0;31mNameError\u001b[0m: name 'string' is not defined"
          ]
        }
      ]
    }
  ]
}