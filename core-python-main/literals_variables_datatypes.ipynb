{
  "nbformat": 4,
  "nbformat_minor": 0,
  "metadata": {
    "colab": {
      "provenance": [],
      "collapsed_sections": [],
      "authorship_tag": "ABX9TyNoOuQj48BfemNRecylZK2H",
      "include_colab_link": true
    },
    "kernelspec": {
      "name": "python3",
      "display_name": "Python 3"
    },
    "language_info": {
      "name": "python"
    }
  },
  "cells": [
    {
      "cell_type": "markdown",
      "metadata": {
        "id": "view-in-github",
        "colab_type": "text"
      },
      "source": [
        "<a href=\"https://colab.research.google.com/github/BData97/core-python/blob/main/literals_variables_datatypes.ipynb\" target=\"_parent\"><img src=\"https://colab.research.google.com/assets/colab-badge.svg\" alt=\"Open In Colab\"/></a>"
      ]
    },
    {
      "cell_type": "markdown",
      "source": [
        "## **python literals and** **variables** "
      ],
      "metadata": {
        "id": "YB18xNLYrbIk"
      }
    },
    {
      "cell_type": "code",
      "source": [
        "a=20\n",
        "print(a)\n",
        "type(a)"
      ],
      "metadata": {
        "colab": {
          "base_uri": "https://localhost:8080/"
        },
        "id": "gM1fHRqWqg94",
        "outputId": "d455a95b-b67d-42e1-d2d7-8e5c857de7ea"
      },
      "execution_count": null,
      "outputs": [
        {
          "output_type": "stream",
          "name": "stdout",
          "text": [
            "20\n"
          ]
        },
        {
          "output_type": "execute_result",
          "data": {
            "text/plain": [
              "int"
            ]
          },
          "metadata": {},
          "execution_count": 12
        }
      ]
    },
    {
      "cell_type": "code",
      "source": [
        "b=\"hello wolrd\"\n",
        "print(b)\n",
        "print(type(b))"
      ],
      "metadata": {
        "colab": {
          "base_uri": "https://localhost:8080/"
        },
        "id": "I_y-YeiqqrB7",
        "outputId": "3b90d9aa-c3ac-48f9-8546-9979409bd3f1"
      },
      "execution_count": null,
      "outputs": [
        {
          "output_type": "stream",
          "name": "stdout",
          "text": [
            "hello wolrd\n",
            "<class 'str'>\n"
          ]
        }
      ]
    },
    {
      "cell_type": "code",
      "source": [
        "c=120.5\n",
        "print(c)\n",
        "print(type(c))"
      ],
      "metadata": {
        "colab": {
          "base_uri": "https://localhost:8080/"
        },
        "id": "WGtxLLoyqwD2",
        "outputId": "933b017d-3447-4566-dcf9-029093260159"
      },
      "execution_count": null,
      "outputs": [
        {
          "output_type": "stream",
          "name": "stdout",
          "text": [
            "120.5\n",
            "<class 'float'>\n"
          ]
        }
      ]
    },
    {
      "cell_type": "markdown",
      "source": [
        "***in order to add quotes in between the string we need to use another type of quotes for opening and closing the string***"
      ],
      "metadata": {
        "id": "cGkHNDERsSNn"
      }
    },
    {
      "cell_type": "code",
      "source": [
        "\n",
        "d=\"my freind's\"\n",
        "print(d)"
      ],
      "metadata": {
        "colab": {
          "base_uri": "https://localhost:8080/"
        },
        "id": "DEncsxCxr2sa",
        "outputId": "8f761f26-abda-4170-dcc7-70bbaea180f0"
      },
      "execution_count": null,
      "outputs": [
        {
          "output_type": "stream",
          "name": "stdout",
          "text": [
            "my freind's\n"
          ]
        }
      ]
    },
    {
      "cell_type": "code",
      "source": [
        "list1=[1,2,3,\"a\",\"b\",\"c\",5.5,3.3,None,True]\n",
        "print(list1)\n",
        "print(type(list1))"
      ],
      "metadata": {
        "colab": {
          "base_uri": "https://localhost:8080/"
        },
        "id": "i6cjSwe4soF6",
        "outputId": "50a1f646-a834-4b66-c648-3108a54128a5"
      },
      "execution_count": null,
      "outputs": [
        {
          "output_type": "stream",
          "name": "stdout",
          "text": [
            "[1, 2, 3, 'a', 'b', 'c', 5.5, 3.3, None, True]\n",
            "<class 'list'>\n"
          ]
        }
      ]
    },
    {
      "cell_type": "code",
      "source": [
        "print(type(list1[2]))\n",
        "print(type(list1[3]))\n",
        "print(type(list1[6]))\n",
        "print(type(list1[-1]))\n",
        "print(type(list1[-2]))\n",
        "\n"
      ],
      "metadata": {
        "colab": {
          "base_uri": "https://localhost:8080/"
        },
        "id": "ECqTaTyXtaLl",
        "outputId": "86fe2706-0190-4044-88e0-ef8da6257a33"
      },
      "execution_count": null,
      "outputs": [
        {
          "output_type": "stream",
          "name": "stdout",
          "text": [
            "<class 'int'>\n",
            "<class 'str'>\n",
            "<class 'float'>\n",
            "<class 'bool'>\n",
            "<class 'NoneType'>\n"
          ]
        }
      ]
    },
    {
      "cell_type": "code",
      "source": [
        "list2=[[4,5,6],[1,2,3]]\n",
        "print(list2)\n",
        "print(list2[0])\n",
        "print(list2[1])\n",
        "print(list2[0][2])\n",
        "print(list2[1][2])"
      ],
      "metadata": {
        "colab": {
          "base_uri": "https://localhost:8080/"
        },
        "id": "bq2lgoDyuC01",
        "outputId": "86c1255c-6487-44f7-c127-d3be6819fd42"
      },
      "execution_count": null,
      "outputs": [
        {
          "output_type": "stream",
          "name": "stdout",
          "text": [
            "[[4, 5, 6], [1, 2, 3]]\n",
            "[4, 5, 6]\n",
            "[1, 2, 3]\n",
            "6\n",
            "3\n"
          ]
        }
      ]
    },
    {
      "cell_type": "code",
      "source": [
        "list3=[1,2,3,4,5,6,7,8,9,10,11,12,13]\n",
        "print(list3[::])\n",
        "print(list3[0:3])\n",
        "print(list3[0:])\n",
        "print(list3[0:-1])\n",
        "print(list3[:6])\n",
        "print(list3[0:8:2])\n",
        "print(list3[0:8:3])\n",
        "print(list3[::-1])\n",
        "print(list3[::-2])"
      ],
      "metadata": {
        "colab": {
          "base_uri": "https://localhost:8080/"
        },
        "id": "Vm89kU3MxiHi",
        "outputId": "5b7f4c3e-456d-408b-c180-3978fb848ddd"
      },
      "execution_count": null,
      "outputs": [
        {
          "output_type": "stream",
          "name": "stdout",
          "text": [
            "[1, 2, 3, 4, 5, 6, 7, 8, 9, 10, 11, 12, 13]\n",
            "[1, 2, 3]\n",
            "[1, 2, 3, 4, 5, 6, 7, 8, 9, 10, 11, 12, 13]\n",
            "[1, 2, 3, 4, 5, 6, 7, 8, 9, 10, 11, 12]\n",
            "[1, 2, 3, 4, 5, 6]\n",
            "[1, 3, 5, 7]\n",
            "[1, 4, 7]\n",
            "[13, 12, 11, 10, 9, 8, 7, 6, 5, 4, 3, 2, 1]\n",
            "[13, 11, 9, 7, 5, 3, 1]\n"
          ]
        }
      ]
    },
    {
      "cell_type": "code",
      "source": [
        "tuple1=(1,2,3,4,5,5,\"a\",\"b\",\"c\",None,False)\n",
        "print(tuple1)\n",
        "print(tuple1[1])"
      ],
      "metadata": {
        "colab": {
          "base_uri": "https://localhost:8080/"
        },
        "id": "cu8vbdXSuKeL",
        "outputId": "32016c18-83e6-4f9c-a7e9-38d04ff74f2b"
      },
      "execution_count": null,
      "outputs": [
        {
          "output_type": "stream",
          "name": "stdout",
          "text": [
            "(1, 2, 3, 4, 5, 5, 'a', 'b', 'c', None, False)\n",
            "2\n"
          ]
        }
      ]
    },
    {
      "cell_type": "code",
      "source": [
        "set1={1,2,3,4,4,5,\"a\",\"c\",\"d\"}\n",
        "print(set1)\n",
        "print(type(set1))\n"
      ],
      "metadata": {
        "colab": {
          "base_uri": "https://localhost:8080/"
        },
        "id": "RuZ2YbImvieS",
        "outputId": "1f14e43a-571c-4b24-e224-58d95282dc2f"
      },
      "execution_count": null,
      "outputs": [
        {
          "output_type": "stream",
          "name": "stdout",
          "text": [
            "{1, 2, 3, 4, 5, 'c', 'a', 'd'}\n",
            "<class 'set'>\n"
          ]
        }
      ]
    },
    {
      "cell_type": "code",
      "source": [
        "dict1={'name':\"bhushan\",\"age\":25,\"status\":\"single\"}\n",
        "print(dict1)\n",
        "dict2={'name':\"bhushan\",\"age\":25,\"status\":\"single\",\"status\":\"married\"}\n",
        "print(dict2)"
      ],
      "metadata": {
        "colab": {
          "base_uri": "https://localhost:8080/"
        },
        "id": "vTE2OupQv_sd",
        "outputId": "a6417e79-a32c-4929-9ed7-62df5c01f404"
      },
      "execution_count": null,
      "outputs": [
        {
          "output_type": "stream",
          "name": "stdout",
          "text": [
            "{'name': 'bhushan', 'age': 25, 'status': 'single'}\n",
            "{'name': 'bhushan', 'age': 25, 'status': 'married'}\n"
          ]
        }
      ]
    },
    {
      "cell_type": "code",
      "source": [
        "a=True\n",
        "b=False\n",
        "print(type(a))\n",
        "print(type(b))"
      ],
      "metadata": {
        "colab": {
          "base_uri": "https://localhost:8080/"
        },
        "id": "bwY0HrM2wSec",
        "outputId": "fa79cfbd-e90f-45bb-cb91-0f1b2d05b40d"
      },
      "execution_count": null,
      "outputs": [
        {
          "output_type": "stream",
          "name": "stdout",
          "text": [
            "<class 'bool'>\n",
            "<class 'bool'>\n"
          ]
        }
      ]
    }
  ]
}