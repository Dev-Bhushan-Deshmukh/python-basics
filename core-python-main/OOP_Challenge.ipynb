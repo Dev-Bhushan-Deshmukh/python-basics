{
  "cells": [
    {
      "cell_type": "markdown",
      "metadata": {
        "id": "view-in-github",
        "colab_type": "text"
      },
      "source": [
        "<a href=\"https://colab.research.google.com/github/BData97/core-python/blob/main/OOP_Challenge.ipynb\" target=\"_parent\"><img src=\"https://colab.research.google.com/assets/colab-badge.svg\" alt=\"Open In Colab\"/></a>"
      ]
    },
    {
      "cell_type": "markdown",
      "metadata": {
        "id": "VFt4dS_vhjzl"
      },
      "source": [
        "# Object Oriented Programming Challenge\n",
        "\n",
        "For this challenge, create a bank account class that has two attributes:\n",
        "\n",
        "* owner\n",
        "* balance\n",
        "\n",
        "and two methods:\n",
        "\n",
        "* deposit\n",
        "* withdraw\n",
        "\n",
        "As an added requirement, withdrawals may not exceed the available balance.\n",
        "\n",
        "Instantiate your class, make several deposits and withdrawals, and test to make sure the account can't be overdrawn."
      ]
    },
    {
      "cell_type": "code",
      "execution_count": null,
      "metadata": {
        "id": "WX9eh9yOhj0H"
      },
      "outputs": [],
      "source": [
        "class Account:\n",
        "\n",
        "   def __init__(self,owner, balance):\n",
        "     self.owner=owner\n",
        "     self.balance=balance\n",
        "  \n",
        "   def deposit(self,dep_am):\n",
        "       self.dep_am=dep_am\n",
        "       self.balance +=dep_am\n",
        "       print(self.dep_am)   \n",
        "       print(self.balance)\n",
        "    \n",
        "   def withdraw(self,with_am):\n",
        "      if self.balance>=with_am:\n",
        "       self.with_am=with_am\n",
        "       self.balance -=with_am\n",
        "       print(self.with_am)   \n",
        "       print(self.balance)\n",
        "      else:\n",
        "        print(\"balance is not enough, available balance is{}\".format(self.balance))"
      ]
    },
    {
      "cell_type": "code",
      "execution_count": null,
      "metadata": {
        "id": "iIDETfY8hj0R"
      },
      "outputs": [],
      "source": [
        "# 1. Instantiate the class\n",
        "a = Account('god',10)"
      ]
    },
    {
      "cell_type": "code",
      "execution_count": null,
      "metadata": {
        "colab": {
          "base_uri": "https://localhost:8080/"
        },
        "id": "urRQAeU8hj0V",
        "outputId": "39203a22-9976-4bdd-ed24-092af399e9b8"
      },
      "outputs": [
        {
          "output_type": "stream",
          "name": "stdout",
          "text": [
            "<__main__.Account object at 0x7fb976380910>\n"
          ]
        }
      ],
      "source": [
        "# 2. Print the object\n",
        "print(acct1)"
      ]
    },
    {
      "cell_type": "code",
      "execution_count": null,
      "metadata": {
        "colab": {
          "base_uri": "https://localhost:8080/",
          "height": 35
        },
        "id": "3rPPbFrvhj0Z",
        "outputId": "f5b4b6d1-e0f7-4628-9ffb-469f4195b216"
      },
      "outputs": [
        {
          "output_type": "execute_result",
          "data": {
            "text/plain": [
              "'god'"
            ],
            "application/vnd.google.colaboratory.intrinsic+json": {
              "type": "string"
            }
          },
          "metadata": {},
          "execution_count": 21
        }
      ],
      "source": [
        "# 3. Show the account owner attribute\n",
        "ac.owner"
      ]
    },
    {
      "cell_type": "code",
      "execution_count": null,
      "metadata": {
        "colab": {
          "base_uri": "https://localhost:8080/"
        },
        "id": "uG7jxs6Chj0c",
        "outputId": "2867bddd-c46a-4e22-d0b7-2dc1f2f5f357"
      },
      "outputs": [
        {
          "output_type": "execute_result",
          "data": {
            "text/plain": [
              "10"
            ]
          },
          "metadata": {},
          "execution_count": 22
        }
      ],
      "source": [
        "# 4. Show the account balance attribute\n",
        "ac.balance"
      ]
    },
    {
      "cell_type": "code",
      "execution_count": null,
      "metadata": {
        "colab": {
          "base_uri": "https://localhost:8080/"
        },
        "id": "EySUqAFDhj0g",
        "outputId": "82b548b7-53ad-46ab-b05e-719ae9e80728"
      },
      "outputs": [
        {
          "output_type": "stream",
          "name": "stdout",
          "text": [
            "1001\n",
            "1011\n"
          ]
        }
      ],
      "source": [
        "# 5. Make a series of deposits and withdrawals\n",
        "a.deposit(1001)"
      ]
    },
    {
      "cell_type": "code",
      "execution_count": null,
      "metadata": {
        "colab": {
          "base_uri": "https://localhost:8080/"
        },
        "id": "kZ6CLyVrhj0l",
        "outputId": "82664f87-4e81-43f2-c36f-f30ef7ab1595"
      },
      "outputs": [
        {
          "output_type": "stream",
          "name": "stdout",
          "text": [
            "500\n",
            "511\n"
          ]
        }
      ],
      "source": [
        "a.withdraw(500)"
      ]
    },
    {
      "cell_type": "code",
      "source": [
        "a.withdraw(11)"
      ],
      "metadata": {
        "colab": {
          "base_uri": "https://localhost:8080/"
        },
        "id": "WzJJluM4FjxI",
        "outputId": "26b9a9b8-2416-4e8c-8c5d-47dcb170be51"
      },
      "execution_count": null,
      "outputs": [
        {
          "output_type": "stream",
          "name": "stdout",
          "text": [
            "balance is not enough, available balance is0\n"
          ]
        }
      ]
    },
    {
      "cell_type": "code",
      "execution_count": null,
      "metadata": {
        "id": "moZd-gD3hj0q"
      },
      "outputs": [],
      "source": [
        "# 6. Make a withdrawal that exceeds the available balance\n",
        "acct1.withdraw(500)"
      ]
    },
    {
      "cell_type": "markdown",
      "metadata": {
        "id": "mzjRq24Ahj0v"
      },
      "source": [
        "## Good job!"
      ]
    }
  ],
  "metadata": {
    "kernelspec": {
      "display_name": "Python 3",
      "language": "python",
      "name": "python3"
    },
    "language_info": {
      "codemirror_mode": {
        "name": "ipython",
        "version": 3
      },
      "file_extension": ".py",
      "mimetype": "text/x-python",
      "name": "python",
      "nbconvert_exporter": "python",
      "pygments_lexer": "ipython3",
      "version": "3.7.3"
    },
    "colab": {
      "provenance": [],
      "include_colab_link": true
    }
  },
  "nbformat": 4,
  "nbformat_minor": 0
}