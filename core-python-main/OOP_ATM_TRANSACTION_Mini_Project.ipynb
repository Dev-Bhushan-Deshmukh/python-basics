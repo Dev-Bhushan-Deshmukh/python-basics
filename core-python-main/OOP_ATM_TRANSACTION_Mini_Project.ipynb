{
  "nbformat": 4,
  "nbformat_minor": 0,
  "metadata": {
    "colab": {
      "provenance": [],
      "authorship_tag": "ABX9TyOTcZxQSzL0PnWGJM90u/oK",
      "include_colab_link": true
    },
    "kernelspec": {
      "name": "python3",
      "display_name": "Python 3"
    },
    "language_info": {
      "name": "python"
    }
  },
  "cells": [
    {
      "cell_type": "markdown",
      "metadata": {
        "id": "view-in-github",
        "colab_type": "text"
      },
      "source": [
        "<a href=\"https://colab.research.google.com/github/BData97/core-python/blob/main/OOP_ATM_TRANSACTION_Mini_Project.ipynb\" target=\"_parent\"><img src=\"https://colab.research.google.com/assets/colab-badge.svg\" alt=\"Open In Colab\"/></a>"
      ]
    },
    {
      "cell_type": "code",
      "execution_count": 18,
      "metadata": {
        "id": "Z7V9jzLilPUV"
      },
      "outputs": [],
      "source": [
        "\n",
        "\n",
        " class Atm:\n",
        "   def __init__(self):\n",
        "     self.pin=\"\"\n",
        "     self.balance=0\n",
        "     print(\"executed...\")\n",
        "     self.Menu()\n",
        "   def Menu(self):\n",
        "     User_input=input(\"Enter choice:\\n 1.create pin \\n 2.change pin \\n 3. Withdraw \\n 4.Deposite \\n 5. Balance Check\\n 6.Exit \\n Option\")\n",
        " \n",
        "     if User_input=='1' :\n",
        "       self.Create_Pin()\n",
        "     elif User_input=='2':\n",
        "      self.Change_pin()\n",
        "     elif User_input=='3':\n",
        "      self.Withdraw()\n",
        "     elif User_input=='4':\n",
        "      self.Dep_Am()\n",
        "     elif User_input=='5':\n",
        "       self.Check_Balance()\n",
        "     elif User_input=='6':\n",
        "        exit()\n",
        "     else:\n",
        "      print(\"Enter valid Option!!!\")\n",
        "      self.Menu()\n",
        "   def Create_Pin(self):\n",
        "    User_pin=input(\"enter Pin:\")\n",
        "    self.pin=User_pin\n",
        "    User_Balance=int(input(\"enter Balance:\"))\n",
        "    self.balance=User_Balance\n",
        "    print(\"pin created!!!\")\n",
        "    self.Menu()\n",
        "   def Dep_Am(self):\n",
        "     check=input(\"enter pin:\")\n",
        "     if check==self.pin:\n",
        "       amount_To_Deposite=int(input(\"enter amount:\"))\n",
        "       self.balance=self.balance + amount_To_Deposite\n",
        "       print(f\"balance:{self.balance}\")\n",
        "       self.Menu() \n",
        "     else:\n",
        "       i=1\n",
        "       while i<4:\n",
        "        check=input(\"enter pin:\")\n",
        "        if check==self.pin:\n",
        "         amount_To_Deposite=int(input(\"enter amount:\"))\n",
        "         self.balance=self.balance + amount_To_Deposite\n",
        "         print(f\"balance:{self.balance}\")\n",
        "         self.Menu()\n",
        "         break\n",
        "     exit()\n",
        "\n",
        "   def Withdraw(self):\n",
        "     check=input(\"enter pin:\")\n",
        "     if check==self.pin:\n",
        "       Withdraw_Amount=int(input(\"enter Amount:\"))\n",
        "       if Withdraw_Amount<=self.balance:\n",
        "        self.balance=self.balance-Withdraw_Amount\n",
        "        print(f\"balance:{self.balance}\")\n",
        "        self.Menu()  \n",
        "       else:\n",
        "        Withdraw_Amount=int(input(\"enter lesser Amount:\"))\n",
        "        if Withdraw_Amount<=self.balance:\n",
        "         self.balance=self.balance-Withdraw_Amount\n",
        "         print(f\"balance:{self.balance}\")\n",
        "         self.Menu() \n",
        "        else:\n",
        "          exit()  \n",
        "     else :\n",
        "       i=1\n",
        "       while i<4:\n",
        "        i+=1\n",
        "        Change=input(\"enter pin:\")\n",
        "        if Change==self.pin :\n",
        "         Withdraw_Amount=int(input(\"enter Amount:\"))\n",
        "         if Withdraw_Amount<=self.balance:\n",
        "          self.balance=self.balance-Withdraw_Amount\n",
        "          print(f\"balance:{self.balance}\")\n",
        "          self.Menu()  \n",
        "         else:\n",
        "          Withdraw_Amount=int(input(\"enter lesser Amount:\"))\n",
        "          if Withdraw_Amount<=self.balance:\n",
        "           self.balance=self.balance-Withdraw_Amount\n",
        "           print(f\"balance:{self.balance}\")\n",
        "           self.Menu() \n",
        "          else:\n",
        "           exit()  \n",
        "         break\n",
        "       exit() \n",
        "   def Change_pin(self):\n",
        "    Change=input(\"enter curent:\")\n",
        "    if Change==self.pin :\n",
        "      new_pin=input(\"enter_new_pin:\")\n",
        "      self.pin=new_pin\n",
        "      print(\"changed!!\")\n",
        "      self.Menu()\n",
        "    else :\n",
        "      i=1\n",
        "      while i<4:\n",
        "       i+=1\n",
        "       Change=input(\"enter curent:\")\n",
        "       if Change==self.pin :\n",
        "        new_pin=input(\"enter_new_pin:\")\n",
        "        self.pin=new_pin\n",
        "        print(\"changed finally!!!\")\n",
        "        self.Menu()\n",
        "        break\n",
        "       exit() \n",
        "  \n",
        "   def Check_Balance(self):\n",
        "     check=input(\"enter pin:\")\n",
        "     if check==self.pin:\n",
        "       print(f\"Available Balance is:{self.balance}\")\n",
        "       self.Menu()\n",
        "     else:\n",
        "       i=1\n",
        "       while i<4:\n",
        "        i+=1\n",
        "        Change=input(\"enter pin:\")\n",
        "        if Change==self.pin :\n",
        "        \n",
        "         print(f\"Available Balance is:{self.balance}\")\n",
        "         self.Menu()\n",
        "         break\n",
        "       exit() "
      ]
    },
    {
      "cell_type": "code",
      "source": [
        "ob1=Atm()"
      ],
      "metadata": {
        "colab": {
          "base_uri": "https://localhost:8080/"
        },
        "id": "3-c_qtCnmol1",
        "outputId": "8e3c0d2a-e46e-4411-a5b5-a20f40ee9fe6"
      },
      "execution_count": null,
      "outputs": [
        {
          "output_type": "stream",
          "name": "stdout",
          "text": [
            "executed...\n"
          ]
        }
      ]
    }
  ]
}