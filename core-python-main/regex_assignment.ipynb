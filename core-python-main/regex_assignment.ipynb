{
  "nbformat": 4,
  "nbformat_minor": 0,
  "metadata": {
    "colab": {
      "provenance": [],
      "authorship_tag": "ABX9TyMv7mLMQLvshMLiCFxGcP5Z",
      "include_colab_link": true
    },
    "kernelspec": {
      "name": "python3",
      "display_name": "Python 3"
    },
    "language_info": {
      "name": "python"
    }
  },
  "cells": [
    {
      "cell_type": "markdown",
      "metadata": {
        "id": "view-in-github",
        "colab_type": "text"
      },
      "source": [
        "<a href=\"https://colab.research.google.com/github/BData97/core-python/blob/main/regex_assignment.ipynb\" target=\"_parent\"><img src=\"https://colab.research.google.com/assets/colab-badge.svg\" alt=\"Open In Colab\"/></a>"
      ]
    },
    {
      "cell_type": "markdown",
      "source": [
        "### Display only those words in output which start with Capital character "
      ],
      "metadata": {
        "id": "8C20dA9wx8bd"
      }
    },
    {
      "cell_type": "code",
      "execution_count": 1,
      "metadata": {
        "id": "P2McqGslu1p_"
      },
      "outputs": [],
      "source": [
        "import re\n"
      ]
    },
    {
      "cell_type": "code",
      "source": [
        "s = 'I live in Pune!'\n",
        "pattern='[A-Z][a-z]*'\n",
        "def Find_Match(pattern,s):\n",
        " \n",
        "  print(re.findall(pattern,s))\n",
        "\n",
        "Find_Match(pattern,s)  "
      ],
      "metadata": {
        "colab": {
          "base_uri": "https://localhost:8080/"
        },
        "id": "wO_GGGrNvASJ",
        "outputId": "c31b479e-b977-40dd-bb95-24e0bc8189b1"
      },
      "execution_count": 14,
      "outputs": [
        {
          "output_type": "stream",
          "name": "stdout",
          "text": [
            "['I', 'Pune']\n"
          ]
        }
      ]
    },
    {
      "cell_type": "code",
      "source": [
        "s = 'I live in Pune!'\n",
        "pattern='[A-Z][a-z]+'\n",
        "print(re.findall(pattern,s))"
      ],
      "metadata": {
        "colab": {
          "base_uri": "https://localhost:8080/"
        },
        "id": "2dqxPHSYxeqa",
        "outputId": "2570fc06-7c9a-4e1c-8686-a4e9f029a8a8"
      },
      "execution_count": 24,
      "outputs": [
        {
          "output_type": "stream",
          "name": "stdout",
          "text": [
            "['Pune']\n"
          ]
        }
      ]
    },
    {
      "cell_type": "markdown",
      "source": [
        "# **# Display only those string which have first 3 characters in capital**"
      ],
      "metadata": {
        "id": "wAM4kfPDyELI"
      }
    },
    {
      "cell_type": "code",
      "source": [
        "s1 = 'I am in MAHarashtra'"
      ],
      "metadata": {
        "id": "OMHYisBCyT02"
      },
      "execution_count": 25,
      "outputs": []
    },
    {
      "cell_type": "code",
      "source": [
        "pattern='[A-Z]{3}[a-z]+'\n",
        "print(re.findall(pattern,s1))"
      ],
      "metadata": {
        "colab": {
          "base_uri": "https://localhost:8080/"
        },
        "id": "Wsuz9jrPyZPi",
        "outputId": "d3fcc0f5-d4f1-436a-dd6a-2563726c741c"
      },
      "execution_count": 28,
      "outputs": [
        {
          "output_type": "stream",
          "name": "stdout",
          "text": [
            "['MAHarashtra']\n"
          ]
        }
      ]
    },
    {
      "cell_type": "markdown",
      "source": [
        "# **  Display only those string in output which start with capital character  (hint - this will give you 4 words)**"
      ],
      "metadata": {
        "id": "WFkWhAjzzKFB"
      }
    },
    {
      "cell_type": "code",
      "source": [
        "input1 = 'I live in Pune and Pune is in Maharashtra'\n",
        "pattern='[A-Z][a-z]*'\n",
        "print(re.findall(pattern,input1))"
      ],
      "metadata": {
        "colab": {
          "base_uri": "https://localhost:8080/"
        },
        "id": "FMxFMtKDzIF0",
        "outputId": "8d7901d1-4d80-4a26-e524-113c22d59b96"
      },
      "execution_count": 31,
      "outputs": [
        {
          "output_type": "stream",
          "name": "stdout",
          "text": [
            "['I', 'Pune', 'Pune', 'Maharashtra']\n"
          ]
        }
      ]
    },
    {
      "cell_type": "markdown",
      "source": [
        "# 2.)  Also display the count of words you got in result ( Hint - display output as 4)"
      ],
      "metadata": {
        "id": "zSyPWFzGzvMP"
      }
    },
    {
      "cell_type": "code",
      "source": [
        "input1 = 'I live in Pune and Pune is in Maharashtra'\n",
        "pattern='[A-Z][a-z]*'\n",
        "x=re.findall(pattern,input1)\n",
        "print('extracted elements:', x ,\"\\n count:\",len(x))"
      ],
      "metadata": {
        "colab": {
          "base_uri": "https://localhost:8080/"
        },
        "id": "2FZNUNPVzxDM",
        "outputId": "d3ea6d6b-3eb0-467e-cda3-ffa4d9827c59"
      },
      "execution_count": 58,
      "outputs": [
        {
          "output_type": "stream",
          "name": "stdout",
          "text": [
            "extracted elements: ['I', 'Pune', 'Pune', 'Maharashtra'] \n",
            " count: 4\n"
          ]
        }
      ]
    },
    {
      "cell_type": "markdown",
      "source": [
        "## **3.) Display all the numbers in output ( hint - 1111 , 2222)**"
      ],
      "metadata": {
        "id": "SzwlgxLo2uF-"
      }
    },
    {
      "cell_type": "code",
      "source": [
        "input2 = 'my contact number is 1111 and my emergency contact number is 2222'\n",
        "pattern='[0-9]+'\n",
        "c=re.findall(pattern,input2)\n",
        "print(c)"
      ],
      "metadata": {
        "colab": {
          "base_uri": "https://localhost:8080/"
        },
        "id": "v1qEXUtm2yfC",
        "outputId": "0871c782-b42d-4c3b-81d0-672993586866"
      },
      "execution_count": 76,
      "outputs": [
        {
          "output_type": "stream",
          "name": "stdout",
          "text": [
            "['1111', '2222']\n"
          ]
        }
      ]
    },
    {
      "cell_type": "markdown",
      "source": [
        "## **4.)  Display output in the form of dict \n",
        "# where first number will come with key primary_number and second number will come as emergency_number \n",
        "\n",
        "# hint {'primary_number':1111,'emergency_number':2222 }**"
      ],
      "metadata": {
        "id": "9a1dMRiL6o4z"
      }
    },
    {
      "cell_type": "code",
      "source": [
        "keys=['primary number','emergency number']\n",
        "dict1={i:c for i in keys}\n",
        "print(dict1)\n",
        "obj=zip(keys,c)\n",
        "dict2=dict(obj)\n",
        "print(dict2)"
      ],
      "metadata": {
        "colab": {
          "base_uri": "https://localhost:8080/"
        },
        "id": "LMfx0mt74UO9",
        "outputId": "342bfa51-5985-4a28-8b25-5d1781cc3a1f"
      },
      "execution_count": 75,
      "outputs": [
        {
          "output_type": "stream",
          "name": "stdout",
          "text": [
            "{'primary number': ['1111', '2222'], 'emergency number': ['1111', '2222']}\n",
            "{'primary number': '1111', 'emergency number': '2222'}\n"
          ]
        }
      ]
    },
    {
      "cell_type": "code",
      "source": [],
      "metadata": {
        "id": "V7kqSiA120nh"
      },
      "execution_count": null,
      "outputs": []
    }
  ]
}