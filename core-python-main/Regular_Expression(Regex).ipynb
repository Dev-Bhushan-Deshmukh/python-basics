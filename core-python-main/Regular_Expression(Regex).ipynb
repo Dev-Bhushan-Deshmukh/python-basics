{
  "nbformat": 4,
  "nbformat_minor": 0,
  "metadata": {
    "colab": {
      "provenance": [],
      "authorship_tag": "ABX9TyNp+ZRtuyxHMilOCNs32MoC",
      "include_colab_link": true
    },
    "kernelspec": {
      "name": "python3",
      "display_name": "Python 3"
    },
    "language_info": {
      "name": "python"
    }
  },
  "cells": [
    {
      "cell_type": "markdown",
      "metadata": {
        "id": "view-in-github",
        "colab_type": "text"
      },
      "source": [
        "<a href=\"https://colab.research.google.com/github/BData97/core-python/blob/main/Regular_Expression(Regex).ipynb\" target=\"_parent\"><img src=\"https://colab.research.google.com/assets/colab-badge.svg\" alt=\"Open In Colab\"/></a>"
      ]
    },
    {
      "cell_type": "markdown",
      "source": [
        "# **Regular** **Expression** (**Regex**) "
      ],
      "metadata": {
        "id": "BQeF1HBXYZck"
      }
    },
    {
      "cell_type": "code",
      "source": [
        "import re"
      ],
      "metadata": {
        "id": "k-alafKgZEUi"
      },
      "execution_count": null,
      "outputs": []
    },
    {
      "cell_type": "code",
      "source": [
        "patterns=[\"term\",\"er\",\"tn\"]\n",
        "txt=\"term1 and term present\"\n",
        "for i in patterns:\n",
        "\n",
        "   print('searching for \"%s\" in:\\n \"%s\"\\n'%(i,txt))\n",
        "   if re.search(i,txt):\n",
        "    print(\"matched\\n\")\n",
        "   else:\n",
        "     print(\"doesnt matched\") "
      ],
      "metadata": {
        "colab": {
          "base_uri": "https://localhost:8080/"
        },
        "id": "ysciD0z8ZIze",
        "outputId": "2a9e120e-4eb9-4b45-fd4e-d46ffe703f56"
      },
      "execution_count": null,
      "outputs": [
        {
          "output_type": "stream",
          "name": "stdout",
          "text": [
            "searching for \"term\" in:\n",
            " \"term1 and term present\"\n",
            "\n",
            "matched\n",
            "\n",
            "searching for \"er\" in:\n",
            " \"term1 and term present\"\n",
            "\n",
            "matched\n",
            "\n",
            "searching for \"tn\" in:\n",
            " \"term1 and term present\"\n",
            "\n",
            "doesnt matched\n"
          ]
        }
      ]
    },
    {
      "cell_type": "code",
      "source": [
        "patter=\"term1\"\n",
        "txt=\"term1 is not equal to term2\"\n",
        "match=re.search(patter,txt)\n",
        "print(match)\n",
        "print(match.start())\n",
        "print(match.end())"
      ],
      "metadata": {
        "colab": {
          "base_uri": "https://localhost:8080/"
        },
        "id": "hGVM_1dEcYn4",
        "outputId": "6dc87fe4-2d3a-4191-f2e0-d3b61b21792f"
      },
      "execution_count": null,
      "outputs": [
        {
          "output_type": "stream",
          "name": "stdout",
          "text": [
            "<re.Match object; span=(0, 5), match='term1'>\n",
            "0\n",
            "5\n"
          ]
        }
      ]
    },
    {
      "cell_type": "code",
      "source": [
        "split_term='to'\n",
        "phrase=\"money$ss hai to $honey hai\"\n",
        "re.split(split_term,phrase)"
      ],
      "metadata": {
        "colab": {
          "base_uri": "https://localhost:8080/"
        },
        "id": "mdzhS_vHeUNf",
        "outputId": "7c40203a-0827-477c-d3a3-789f1fd7cbed"
      },
      "execution_count": null,
      "outputs": [
        {
          "output_type": "execute_result",
          "data": {
            "text/plain": [
              "['money$ss hai ', ' $honey hai']"
            ]
          },
          "metadata": {},
          "execution_count": 33
        }
      ]
    },
    {
      "cell_type": "code",
      "source": [
        "split_term=''\n",
        "phrase=\"money$ss hai to $honey hai\"\n",
        "re.split(split_term,phrase)"
      ],
      "metadata": {
        "colab": {
          "base_uri": "https://localhost:8080/"
        },
        "id": "jHbRoFZmdZ7d",
        "outputId": "15def384-8f0b-4ad9-8c40-743f623f16a8"
      },
      "execution_count": null,
      "outputs": [
        {
          "output_type": "execute_result",
          "data": {
            "text/plain": [
              "['',\n",
              " 'm',\n",
              " 'o',\n",
              " 'n',\n",
              " 'e',\n",
              " 'y',\n",
              " '$',\n",
              " 's',\n",
              " 's',\n",
              " ' ',\n",
              " 'h',\n",
              " 'a',\n",
              " 'i',\n",
              " ' ',\n",
              " 't',\n",
              " 'o',\n",
              " ' ',\n",
              " '$',\n",
              " 'h',\n",
              " 'o',\n",
              " 'n',\n",
              " 'e',\n",
              " 'y',\n",
              " ' ',\n",
              " 'h',\n",
              " 'a',\n",
              " 'i',\n",
              " '']"
            ]
          },
          "metadata": {},
          "execution_count": 30
        }
      ]
    },
    {
      "cell_type": "code",
      "source": [
        "split_term='@'\n",
        "phrase=\"money$ss abv@ hai to $honey hai\"\n",
        "re.split(split_term,phrase)"
      ],
      "metadata": {
        "colab": {
          "base_uri": "https://localhost:8080/"
        },
        "id": "Ti0jIhsPeqBw",
        "outputId": "05aa2cd8-70e3-4349-f2b7-1a58581812e1"
      },
      "execution_count": null,
      "outputs": [
        {
          "output_type": "execute_result",
          "data": {
            "text/plain": [
              "['money$ss abv', ' hai to $honey hai']"
            ]
          },
          "metadata": {},
          "execution_count": 40
        }
      ]
    },
    {
      "cell_type": "code",
      "source": [
        "split_term='$'\n",
        "phrase=\"money$ss abv# hai to $honey hai\"\n",
        "re.split(split_term,phrase)"
      ],
      "metadata": {
        "colab": {
          "base_uri": "https://localhost:8080/"
        },
        "id": "zB91vrsafP_k",
        "outputId": "5e2d6bcb-caf6-4446-f524-6af935eae416"
      },
      "execution_count": null,
      "outputs": [
        {
          "output_type": "execute_result",
          "data": {
            "text/plain": [
              "['money$ss abv# hai to $honey hai', '']"
            ]
          },
          "metadata": {},
          "execution_count": 42
        }
      ]
    },
    {
      "cell_type": "code",
      "source": [
        "split_term='*'\n",
        "phrase=\"money$ss abv*hai to $honey hai\"\n",
        "re.split(split_term,phrase)"
      ],
      "metadata": {
        "id": "fOVLgEiWf9JR"
      },
      "execution_count": null,
      "outputs": []
    },
    {
      "cell_type": "code",
      "source": [
        "split_term='%'\n",
        "phrase=\"money$ss abv% hai to $honey hai\"\n",
        "re.split(split_term,phrase)"
      ],
      "metadata": {
        "colab": {
          "base_uri": "https://localhost:8080/"
        },
        "id": "XqIHggOif3bO",
        "outputId": "ebf5a4d3-0b0e-4c9c-a161-f5a9bb5ed7f8"
      },
      "execution_count": null,
      "outputs": [
        {
          "output_type": "execute_result",
          "data": {
            "text/plain": [
              "['money$ss abv', ' hai to $honey hai']"
            ]
          },
          "metadata": {},
          "execution_count": 48
        }
      ]
    },
    {
      "cell_type": "code",
      "source": [
        "split_term='!'\n",
        "phrase=\"money$ss abv! hai to $honey hai\"\n",
        "re.split(split_term,phrase)"
      ],
      "metadata": {
        "colab": {
          "base_uri": "https://localhost:8080/"
        },
        "id": "sTJFz1KLfZ18",
        "outputId": "2a050f60-3e03-4044-c5da-0959270924eb"
      },
      "execution_count": null,
      "outputs": [
        {
          "output_type": "execute_result",
          "data": {
            "text/plain": [
              "['money$ss abv', ' hai to $honey hai']"
            ]
          },
          "metadata": {},
          "execution_count": 43
        }
      ]
    },
    {
      "cell_type": "code",
      "source": [
        "split_term='&'\n",
        "phrase=\"money$ss abv&  hai to $honey hai\"\n",
        "re.split(split_term,phrase)"
      ],
      "metadata": {
        "colab": {
          "base_uri": "https://localhost:8080/"
        },
        "id": "kQreSSaWfe0V",
        "outputId": "2f6b2072-c2c7-40d2-a5e4-9e683f6ec957"
      },
      "execution_count": null,
      "outputs": [
        {
          "output_type": "execute_result",
          "data": {
            "text/plain": [
              "['money$ss abv', '  hai to $honey hai']"
            ]
          },
          "metadata": {},
          "execution_count": 47
        }
      ]
    },
    {
      "cell_type": "code",
      "source": [
        "phrase.split('$')"
      ],
      "metadata": {
        "colab": {
          "base_uri": "https://localhost:8080/"
        },
        "id": "dwOR02xHgQiu",
        "outputId": "653e3270-3eb3-4fdd-b86b-72f33ee0dfe1"
      },
      "execution_count": null,
      "outputs": [
        {
          "output_type": "execute_result",
          "data": {
            "text/plain": [
              "['money', 'ss abv*hai to ', 'honey hai']"
            ]
          },
          "metadata": {},
          "execution_count": 51
        }
      ]
    },
    {
      "cell_type": "code",
      "source": [
        "phrs=\"honey honey*money money\"\n",
        "phrs.split('*')"
      ],
      "metadata": {
        "colab": {
          "base_uri": "https://localhost:8080/"
        },
        "id": "VF_EuhBfgQWF",
        "outputId": "c656bfd8-1e40-41ef-8f2a-b39943906316"
      },
      "execution_count": null,
      "outputs": [
        {
          "output_type": "execute_result",
          "data": {
            "text/plain": [
              "['honey honey', 'money money']"
            ]
          },
          "metadata": {},
          "execution_count": 52
        }
      ]
    },
    {
      "cell_type": "code",
      "source": [
        "test=re.findall('match','match is equal to match but not equal to unmatched')\n",
        "print(test)"
      ],
      "metadata": {
        "colab": {
          "base_uri": "https://localhost:8080/"
        },
        "id": "FbLTaok-g1FH",
        "outputId": "15ede682-0d20-497c-eb64-4984c78942fd"
      },
      "execution_count": null,
      "outputs": [
        {
          "output_type": "stream",
          "name": "stdout",
          "text": [
            "['match', 'match', 'match']\n"
          ]
        }
      ]
    },
    {
      "cell_type": "code",
      "source": [
        "import re"
      ],
      "metadata": {
        "id": "WF4jce9ohY9P"
      },
      "execution_count": null,
      "outputs": []
    },
    {
      "cell_type": "code",
      "source": [
        "test=re.findall('a','my name is bhushan deshmukh live in pune at hadapsar')\n",
        "print(test)"
      ],
      "metadata": {
        "colab": {
          "base_uri": "https://localhost:8080/"
        },
        "id": "1dbgbgF7hD0t",
        "outputId": "ca742a03-4752-4aa9-8410-140f2291e074"
      },
      "execution_count": null,
      "outputs": [
        {
          "output_type": "stream",
          "name": "stdout",
          "text": [
            "['a', 'a', 'a', 'a', 'a', 'a']\n"
          ]
        }
      ]
    },
    {
      "cell_type": "code",
      "source": [
        "def multi_re_find(pattern,phrase):\n",
        "  for p in pattern:\n",
        "    print('searching for \"%s\"'%(p))\n",
        "    print(re.findall(p,phrase))\n",
        "    print('\\n')"
      ],
      "metadata": {
        "id": "jxD9ljy5iTWT"
      },
      "execution_count": null,
      "outputs": []
    },
    {
      "cell_type": "code",
      "source": [
        "pattern=\"abcdeA\"\n",
        "phrase=\"abcdabcdbabcbdbcbabbdhfkiiguipankancmxckkx\"\n",
        "multi_re_find(pattern,phrase)"
      ],
      "metadata": {
        "colab": {
          "base_uri": "https://localhost:8080/"
        },
        "id": "4ZOuaIewjMol",
        "outputId": "bc38fd69-7c4a-414e-d41a-3412db8318a4"
      },
      "execution_count": null,
      "outputs": [
        {
          "output_type": "stream",
          "name": "stdout",
          "text": [
            "searching for \"a\"\n",
            "['a', 'a', 'a', 'a', 'a', 'a']\n",
            "\n",
            "\n",
            "searching for \"b\"\n",
            "['b', 'b', 'b', 'b', 'b', 'b', 'b', 'b', 'b']\n",
            "\n",
            "\n",
            "searching for \"c\"\n",
            "['c', 'c', 'c', 'c', 'c', 'c']\n",
            "\n",
            "\n",
            "searching for \"d\"\n",
            "['d', 'd', 'd', 'd']\n",
            "\n",
            "\n",
            "searching for \"e\"\n",
            "[]\n",
            "\n",
            "\n",
            "searching for \"A\"\n",
            "[]\n",
            "\n",
            "\n"
          ]
        }
      ]
    },
    {
      "cell_type": "code",
      "source": [
        "pattern=[\"abcdeA\",\"abcdabcdbabcbdbcbabbdhfkiiguipankancmxckkx\"]\n",
        "phrase=\"abcdabcdbabcbdbcbabbdhfkiiguipankancmxckkx\"\n",
        "multi_re_find(pattern,phrase)"
      ],
      "metadata": {
        "colab": {
          "base_uri": "https://localhost:8080/"
        },
        "id": "gRUCngyOkI3q",
        "outputId": "c19f85d0-494f-485a-e163-5da82c7254d2"
      },
      "execution_count": null,
      "outputs": [
        {
          "output_type": "stream",
          "name": "stdout",
          "text": [
            "searching for \"abcdeA\"\n",
            "[]\n",
            "\n",
            "\n",
            "searching for \"abcdabcdbabcbdbcbabbdhfkiiguipankancmxckkx\"\n",
            "['abcdabcdbabcbdbcbabbdhfkiiguipankancmxckkx']\n",
            "\n",
            "\n"
          ]
        }
      ]
    },
    {
      "cell_type": "code",
      "source": [
        "for i in 'bhushan':\n",
        "  instance=re.findall(i,\"bhushan bhushan bHushan bhushanbhushan\")\n",
        "  print(instance)"
      ],
      "metadata": {
        "colab": {
          "base_uri": "https://localhost:8080/"
        },
        "id": "3THq6_bDhhHT",
        "outputId": "93962dee-db90-4a4e-d3c2-8dd7e1cd2450"
      },
      "execution_count": null,
      "outputs": [
        {
          "output_type": "stream",
          "name": "stdout",
          "text": [
            "['b', 'b', 'b', 'b', 'b']\n",
            "['h', 'h', 'h', 'h', 'h', 'h', 'h', 'h', 'h']\n",
            "['u', 'u', 'u', 'u', 'u']\n",
            "['s', 's', 's', 's', 's']\n",
            "['h', 'h', 'h', 'h', 'h', 'h', 'h', 'h', 'h']\n",
            "['a', 'a', 'a', 'a', 'a']\n",
            "['n', 'n', 'n', 'n', 'n']\n"
          ]
        }
      ]
    },
    {
      "cell_type": "code",
      "source": [
        "phrase=\"sddd sddss dsssdd  dsss asss dsd dff sddd gfsd\"\n",
        "pattern='sd+'\n",
        "re.findall(pattern,phrase)"
      ],
      "metadata": {
        "colab": {
          "base_uri": "https://localhost:8080/"
        },
        "id": "JsFKfIkSlyY1",
        "outputId": "2609df8b-72e7-43fc-99c9-d96b6db23aad"
      },
      "execution_count": null,
      "outputs": [
        {
          "output_type": "execute_result",
          "data": {
            "text/plain": [
              "['sddd', 'sdd', 'sdd', 'sd', 'sddd', 'sd']"
            ]
          },
          "metadata": {},
          "execution_count": 23
        }
      ]
    },
    {
      "cell_type": "code",
      "source": [
        "phrase=\"sddd sddss dsssdd  dsss asss dsd dff sddd gfsd\"\n",
        "pattern='sd*'\n",
        "re.findall(pattern,phrase)"
      ],
      "metadata": {
        "colab": {
          "base_uri": "https://localhost:8080/"
        },
        "id": "DWLkBZHvmP0N",
        "outputId": "c351729d-2886-4946-af32-4275c261771e"
      },
      "execution_count": null,
      "outputs": [
        {
          "output_type": "execute_result",
          "data": {
            "text/plain": [
              "['sddd',\n",
              " 'sdd',\n",
              " 's',\n",
              " 's',\n",
              " 's',\n",
              " 's',\n",
              " 'sdd',\n",
              " 's',\n",
              " 's',\n",
              " 's',\n",
              " 's',\n",
              " 's',\n",
              " 's',\n",
              " 'sd',\n",
              " 'sddd',\n",
              " 'sd']"
            ]
          },
          "metadata": {},
          "execution_count": 24
        }
      ]
    },
    {
      "cell_type": "code",
      "source": [
        "phrase=\"sddd sddss dsssdd  dsss asss dsd dff sddd gfsd\"\n",
        "pattern='sd?'\n",
        "re.findall(pattern,phrase)"
      ],
      "metadata": {
        "colab": {
          "base_uri": "https://localhost:8080/"
        },
        "id": "o-hnLqSLmdWM",
        "outputId": "902ad453-6cdc-4d25-f25a-059855e386ec"
      },
      "execution_count": null,
      "outputs": [
        {
          "output_type": "execute_result",
          "data": {
            "text/plain": [
              "['sd',\n",
              " 'sd',\n",
              " 's',\n",
              " 's',\n",
              " 's',\n",
              " 's',\n",
              " 'sd',\n",
              " 's',\n",
              " 's',\n",
              " 's',\n",
              " 's',\n",
              " 's',\n",
              " 's',\n",
              " 'sd',\n",
              " 'sd',\n",
              " 'sd']"
            ]
          },
          "metadata": {},
          "execution_count": 25
        }
      ]
    },
    {
      "cell_type": "code",
      "source": [
        "phrase=\"sddd sddss dsssdd  dsss asss dsd dff sddd gfsd\"\n",
        "pattern='sd{3}'\n",
        "re.findall(pattern,phrase)"
      ],
      "metadata": {
        "colab": {
          "base_uri": "https://localhost:8080/"
        },
        "id": "5_TwVT0mmx32",
        "outputId": "33b24ae5-efa3-47a8-d68a-543d65407e89"
      },
      "execution_count": null,
      "outputs": [
        {
          "output_type": "execute_result",
          "data": {
            "text/plain": [
              "['sddd', 'sddd']"
            ]
          },
          "metadata": {},
          "execution_count": 26
        }
      ]
    },
    {
      "cell_type": "code",
      "source": [
        "phrase=\"sddd  ss dsd  d  dsd dff sddd gfsd gggg\"\n",
        "pattern=['[sd]','s[sd]+']\n",
        "for i in pattern:\n",
        " print(re.findall(i,phrase))"
      ],
      "metadata": {
        "colab": {
          "base_uri": "https://localhost:8080/"
        },
        "id": "VVz2z7idm3IP",
        "outputId": "38c13f99-e4a5-4c61-94dd-b50b2a613b81"
      },
      "execution_count": null,
      "outputs": [
        {
          "output_type": "stream",
          "name": "stdout",
          "text": [
            "['s', 'd', 'd', 'd', 's', 's', 'd', 's', 'd', 'd', 'd', 's', 'd', 'd', 's', 'd', 'd', 'd', 's', 'd']\n",
            "['sddd', 'ss', 'sd', 'sd', 'sddd', 'sd']\n"
          ]
        }
      ]
    },
    {
      "cell_type": "code",
      "source": [
        "import re\n",
        "def multi_find(phrase,text):\n",
        "  for i in phrase:\n",
        "    print(\"search for'%s'in:\"%(i))\n",
        "    print(re.findall(i,text))\n"
      ],
      "metadata": {
        "id": "mCf96CqjjfVG"
      },
      "execution_count": 6,
      "outputs": []
    },
    {
      "cell_type": "code",
      "source": [
        "text=\"sss sdd sdsdsa d  ddd ddd sklls sddsd ddddss \"\n",
        "phrase=[\n",
        "'[sd]{2}',\n",
        "'s[sd]+'\n",
        "]\n",
        "multi_find(phrase,text)"
      ],
      "metadata": {
        "colab": {
          "base_uri": "https://localhost:8080/"
        },
        "id": "Wi-2AQXWsh2k",
        "outputId": "06419670-a8f6-4ab0-e415-d99c004cc771"
      },
      "execution_count": 28,
      "outputs": [
        {
          "output_type": "stream",
          "name": "stdout",
          "text": [
            "search for'[sd]{2}'in:\n",
            "['ss', 'sd', 'sd', 'sd', 'dd', 'dd', 'sd', 'ds', 'dd', 'dd', 'ss']\n",
            "search for's[sd]+'in:\n",
            "['sss', 'sdd', 'sdsds', 'sddsd', 'ss']\n"
          ]
        }
      ]
    },
    {
      "cell_type": "code",
      "source": [
        "text=\"sdd sdsd dd sssd dds ssddd ssssss dssdsd ss gff dsfgf\"\n",
        "phrase=[\n",
        "    'sd*',\n",
        "    'sd+',\n",
        "    'sd?',\n",
        "    'sd{{3}',\n",
        "    'sd{2,3}'\n",
        "]\n",
        "multi_find(phrase,text)"
      ],
      "metadata": {
        "colab": {
          "base_uri": "https://localhost:8080/"
        },
        "id": "JvOOPSCFk57I",
        "outputId": "7e4b71f5-3ff8-46c7-849a-84403d84dc5f"
      },
      "execution_count": 7,
      "outputs": [
        {
          "output_type": "stream",
          "name": "stdout",
          "text": [
            "search for'sd*'in:\n",
            "['sdd', 'sd', 'sd', 's', 's', 'sd', 's', 's', 'sddd', 's', 's', 's', 's', 's', 's', 's', 'sd', 'sd', 's', 's', 's']\n",
            "search for'sd+'in:\n",
            "['sdd', 'sd', 'sd', 'sd', 'sddd', 'sd', 'sd']\n",
            "search for'sd?'in:\n",
            "['sd', 'sd', 'sd', 's', 's', 'sd', 's', 's', 'sd', 's', 's', 's', 's', 's', 's', 's', 'sd', 'sd', 's', 's', 's']\n",
            "search for'sd{{3}'in:\n",
            "[]\n",
            "search for'sd{2,3}'in:\n",
            "['sdd', 'sddd']\n"
          ]
        }
      ]
    },
    {
      "cell_type": "code",
      "source": [
        "text=\"this is a string with# in area\"\n",
        "phrase=[\n",
        "    \n",
        "r'\\W'\n",
        "\n",
        "]\n",
        "multi_find(phrase,text)"
      ],
      "metadata": {
        "colab": {
          "base_uri": "https://localhost:8080/"
        },
        "id": "kKEMMQ2TmUJk",
        "outputId": "aa95010e-2c38-4baf-8b09-e43b64dff81b"
      },
      "execution_count": 9,
      "outputs": [
        {
          "output_type": "stream",
          "name": "stdout",
          "text": [
            "search for'\\W'in:\n",
            "[' ', ' ', ' ', ' ', '#', ' ', ' ']\n"
          ]
        }
      ]
    },
    {
      "cell_type": "code",
      "source": [
        "text=\"this is a string12 with# in area\"\n",
        "phrase=[\n",
        "    \n",
        "r'\\w'\n",
        "\n",
        "]\n",
        "multi_find(phrase,text)"
      ],
      "metadata": {
        "colab": {
          "base_uri": "https://localhost:8080/"
        },
        "id": "ALwYkAhqnJa3",
        "outputId": "0e6bd899-bb13-4c26-8918-f24b139269f2"
      },
      "execution_count": 10,
      "outputs": [
        {
          "output_type": "stream",
          "name": "stdout",
          "text": [
            "search for'\\w'in:\n",
            "['t', 'h', 'i', 's', 'i', 's', 'a', 's', 't', 'r', 'i', 'n', 'g', '1', '2', 'w', 'i', 't', 'h', 'i', 'n', 'a', 'r', 'e', 'a']\n"
          ]
        }
      ]
    },
    {
      "cell_type": "code",
      "source": [
        "text=\"this is a string12 with# in area\"\n",
        "phrase=[\n",
        "    \n",
        "r'\\d+'\n",
        "\n",
        "]\n",
        "multi_find(phrase,text)"
      ],
      "metadata": {
        "colab": {
          "base_uri": "https://localhost:8080/"
        },
        "id": "wDJiHNgindBy",
        "outputId": "d60cbff4-fc39-40ae-a4ea-8d1780548e64"
      },
      "execution_count": 11,
      "outputs": [
        {
          "output_type": "stream",
          "name": "stdout",
          "text": [
            "search for'\\d+'in:\n",
            "['12']\n"
          ]
        }
      ]
    },
    {
      "cell_type": "code",
      "source": [
        "text=\"this is a string12 with# in area\"\n",
        "phrase=[\n",
        "    \n",
        "r'\\D+'\n",
        "\n",
        "]\n",
        "multi_find(phrase,text)"
      ],
      "metadata": {
        "colab": {
          "base_uri": "https://localhost:8080/"
        },
        "id": "kU_QEvHRnjI8",
        "outputId": "bd780f6f-bf16-4dac-8648-bb1a0a365a12"
      },
      "execution_count": 12,
      "outputs": [
        {
          "output_type": "stream",
          "name": "stdout",
          "text": [
            "search for'\\D+'in:\n",
            "['this is a string', ' with# in area']\n"
          ]
        }
      ]
    },
    {
      "cell_type": "code",
      "source": [
        "text=\"this is a string12 with# in area\"\n",
        "phrase=[\n",
        "    \n",
        "r'\\s+'\n",
        "\n",
        "]\n",
        "multi_find(phrase,text)"
      ],
      "metadata": {
        "colab": {
          "base_uri": "https://localhost:8080/"
        },
        "id": "VSUJXZi1npAT",
        "outputId": "938cec91-9ef5-4933-b2e3-7dcdf5d009b6"
      },
      "execution_count": 13,
      "outputs": [
        {
          "output_type": "stream",
          "name": "stdout",
          "text": [
            "search for'\\s+'in:\n",
            "[' ', ' ', ' ', ' ', ' ', ' ']\n"
          ]
        }
      ]
    },
    {
      "cell_type": "code",
      "source": [
        "text=\"this is a string12 with# in area\"\n",
        "phrase=[\n",
        "    \n",
        "r'\\S+'\n",
        "\n",
        "]\n",
        "multi_find(phrase,text)"
      ],
      "metadata": {
        "colab": {
          "base_uri": "https://localhost:8080/"
        },
        "id": "fNOmun0Fnwn0",
        "outputId": "ada0b6f0-c299-428f-cfa4-0aab8175e2dc"
      },
      "execution_count": 16,
      "outputs": [
        {
          "output_type": "stream",
          "name": "stdout",
          "text": [
            "search for'\\S+'in:\n",
            "['this', 'is', 'a', 'string12', 'with#', 'in', 'area']\n"
          ]
        }
      ]
    },
    {
      "cell_type": "code",
      "source": [
        "text=\"this is a string12 with# in area\"\n",
        "phrase=[\n",
        "  r'\\D+',\n",
        "  r'\\d+',\n",
        "  r'\\s+',\n",
        "  r'\\S+',\n",
        "  r'\\w+',  \n",
        "r'\\W+'\n",
        "\n",
        "]\n",
        "multi_find(phrase,text)"
      ],
      "metadata": {
        "colab": {
          "base_uri": "https://localhost:8080/"
        },
        "id": "NbTeqUTBn7k0",
        "outputId": "6747e231-d7f8-45ce-fa7b-62b2065859e0"
      },
      "execution_count": 17,
      "outputs": [
        {
          "output_type": "stream",
          "name": "stdout",
          "text": [
            "search for'\\D+'in:\n",
            "['this is a string', ' with# in area']\n",
            "search for'\\d+'in:\n",
            "['12']\n",
            "search for'\\s+'in:\n",
            "[' ', ' ', ' ', ' ', ' ', ' ']\n",
            "search for'\\S+'in:\n",
            "['this', 'is', 'a', 'string12', 'with#', 'in', 'area']\n",
            "search for'\\w+'in:\n",
            "['this', 'is', 'a', 'string12', 'with', 'in', 'area']\n",
            "search for'\\W+'in:\n",
            "[' ', ' ', ' ', ' ', '# ', ' ']\n"
          ]
        }
      ]
    },
    {
      "cell_type": "code",
      "source": [
        "text=\"this is a string12 with# in area Albino aLL UUg OKK \"\n",
        "phrase=[\n",
        "'[a-z]+',\n",
        "'[A-Z]+',\n",
        "'[a-zA-Z]+',\n",
        "'[A-Z][a-z]+',\n",
        "'[a-z][A-Z]',\n",
        "'[A-Z]+[a-z]+',\n",
        "'[A-Z]{2}[a-z]+',\n",
        "'[A-Z]{2}[a-z]?'\n",
        "]\n",
        "multi_find(phrase,text)"
      ],
      "metadata": {
        "colab": {
          "base_uri": "https://localhost:8080/"
        },
        "id": "F4z7TuRloujJ",
        "outputId": "03874fca-0415-4542-9f62-a9e6deac6cb1"
      },
      "execution_count": 24,
      "outputs": [
        {
          "output_type": "stream",
          "name": "stdout",
          "text": [
            "search for'[a-z]+'in:\n",
            "['this', 'is', 'a', 'string', 'with', 'in', 'area', 'lbino', 'a', 'g']\n",
            "search for'[A-Z]+'in:\n",
            "['A', 'LL', 'UU', 'OKK']\n",
            "search for'[a-zA-Z]+'in:\n",
            "['this', 'is', 'a', 'string', 'with', 'in', 'area', 'Albino', 'aLL', 'UUg', 'OKK']\n",
            "search for'[A-Z][a-z]+'in:\n",
            "['Albino', 'Ug']\n",
            "search for'[a-z][A-Z]'in:\n",
            "['aL']\n",
            "search for'[A-Z]+[a-z]+'in:\n",
            "['Albino', 'UUg']\n",
            "search for'[A-Z]{2}[a-z]+'in:\n",
            "['UUg']\n",
            "search for'[A-Z]{2}[a-z]?'in:\n",
            "['LL', 'UUg', 'OK']\n"
          ]
        }
      ]
    },
    {
      "cell_type": "code",
      "source": [
        "text=\"this is? #a ...string12 with# in area Albino aLL UUg OKK \"\n",
        "phrase=[\n",
        "'[^!.?#]+'\n",
        "]\n",
        "multi_find(phrase,text)"
      ],
      "metadata": {
        "colab": {
          "base_uri": "https://localhost:8080/"
        },
        "id": "K-DsVVznsFgY",
        "outputId": "837c8ebf-7eb1-4a98-8de6-d30d897f7735"
      },
      "execution_count": 27,
      "outputs": [
        {
          "output_type": "stream",
          "name": "stdout",
          "text": [
            "search for'[^!.?#]+'in:\n",
            "['this is', ' ', 'a ', 'string12 with', ' in area Albino aLL UUg OKK ']\n"
          ]
        }
      ]
    },
    {
      "cell_type": "code",
      "source": [
        "text=\"this is? #a ...string12 with# in area Albino aLL UUg OKK \"\n",
        "phrase=[\n",
        "'[^!.?# ]+'\n",
        "]\n",
        "multi_find(phrase,text)"
      ],
      "metadata": {
        "colab": {
          "base_uri": "https://localhost:8080/"
        },
        "id": "MwNp6QYlrdIs",
        "outputId": "c3de98da-5bad-4ccd-e3b2-5fd598569ce1"
      },
      "execution_count": 26,
      "outputs": [
        {
          "output_type": "stream",
          "name": "stdout",
          "text": [
            "search for'[^!.?# ]+'in:\n",
            "['this', 'is', 'a', 'string12', 'with', 'in', 'area', 'Albino', 'aLL', 'UUg', 'OKK']\n"
          ]
        }
      ]
    }
  ]
}